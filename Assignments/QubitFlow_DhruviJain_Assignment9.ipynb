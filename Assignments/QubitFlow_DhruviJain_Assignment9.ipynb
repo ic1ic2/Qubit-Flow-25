{
  "nbformat": 4,
  "nbformat_minor": 0,
  "metadata": {
    "colab": {
      "provenance": []
    },
    "kernelspec": {
      "name": "python3",
      "display_name": "Python 3"
    },
    "language_info": {
      "name": "python"
    }
  },
  "cells": [
    {
      "cell_type": "code",
      "execution_count": null,
      "metadata": {
        "id": "Fg_L8DBqkXNU"
      },
      "outputs": [],
      "source": [
        "%pip install -U qiskit-ibm-runtime\n",
        "%pip install -U qiskit-aer\n",
        "%pip install -U qiskit-transpiler-service\n",
        "%pip install -U pylatexenc"
      ]
    },
    {
      "cell_type": "code",
      "source": [
        "from qiskit import QuantumCircuit, transpile\n",
        "from qiskit.quantum_info import Statevector\n",
        "from qiskit.transpiler.preset_passmanagers import generate_preset_pass_manager\n",
        "from qiskit_aer import AerSimulator\n",
        "from qiskit.visualization import plot_histogram\n",
        "from qiskit_ibm_runtime import QiskitRuntimeService, Sampler\n",
        "import matplotlib.pyplot as plt\n",
        "import numpy as np\n",
        "from collections import Counter"
      ],
      "metadata": {
        "id": "JpT7l1n8khrO"
      },
      "execution_count": 2,
      "outputs": []
    },
    {
      "cell_type": "code",
      "source": [
        "from math import gcd\n",
        "from fractions import Fraction\n",
        "from numpy.random import randint"
      ],
      "metadata": {
        "id": "LUuJywukeQoq"
      },
      "execution_count": 3,
      "outputs": []
    },
    {
      "cell_type": "code",
      "source": [
        "from google.colab import userdata\n",
        "api_key = userdata.get('IBM_API_KEY')\n",
        "\n",
        "service = QiskitRuntimeService(\n",
        "    channel='ibm_quantum_platform',\n",
        "    instance='my_instance',\n",
        "    token=api_key,\n",
        ")\n",
        "\n",
        "backend= service.backend('ibm_brisbane')"
      ],
      "metadata": {
        "id": "XvABWOD5kmQU"
      },
      "execution_count": 5,
      "outputs": []
    },
    {
      "cell_type": "code",
      "source": [
        "sampler= Sampler(backend)\n",
        "pm = generate_preset_pass_manager(backend=backend, optimization_level=1, seed_transpiler=0)\n",
        "sim= AerSimulator()"
      ],
      "metadata": {
        "id": "Xz4kXv8idymv"
      },
      "execution_count": 6,
      "outputs": []
    },
    {
      "cell_type": "code",
      "source": [
        "#QFT\n",
        "#Quantum Fourier Transform (QFT) is the quantum version of the classical Discrete Fourier Transform (DFT)\n",
        "#QFT transforms a quantum state into a superposition where each basis state encodes a Fourier component\n",
        "#This implies that it's a unitary map where each amplitude is Fourier-transformed\n",
        "#QFT enables us to extract periodicity\n",
        "#QFT turns periodicity in the computational basis into amplitude peaks\n",
        "#QFT can be approximated by truncating small-angle rotations to reduce circuit depth(important for noisy devices)"
      ],
      "metadata": {
        "id": "Znev9APsknGT"
      },
      "execution_count": null,
      "outputs": []
    },
    {
      "cell_type": "code",
      "source": [
        "#QFT Implementation\n",
        "#The .cp in the code stands for a Controlled-Phase gate\n",
        "#qc.cp(theta, control_qubit, target_qubit) applies a phase rotation of angle theta to the target_qubit\n",
        "#Here, j is the control qubit and i is the target qubit\n",
        "\n",
        "def qft(n):\n",
        "  qc = QuantumCircuit(n)\n",
        "\n",
        "  for i in range(n):\n",
        "      qc.h(i)\n",
        "      for j in range(i+1, n):\n",
        "          qc.cp(np.pi / (2 ** (j - i)), j, i)\n",
        "\n",
        "    #swap qubits to reverse order\n",
        "  for i in range(n // 2):\n",
        "      qc.swap(i, n - i - 1)\n",
        "\n",
        "  qc.name = \"QFT\"\n",
        "  return qc"
      ],
      "metadata": {
        "id": "0dE-I3O8mf9E"
      },
      "execution_count": 8,
      "outputs": []
    },
    {
      "cell_type": "code",
      "source": [
        "#IQFT\n",
        "#The Inverse Quantum Fourier Transform is the reverse operation of the QFT\n",
        "#QFT maps a quantum state into the frequency domain and IQFT brings it back to the original computational basis\n",
        "#IQFT applies the complex conjugate of the QFT matrix. So all the exponents become negative"
      ],
      "metadata": {
        "id": "poKqnTk-t_XE"
      },
      "execution_count": 9,
      "outputs": []
    },
    {
      "cell_type": "code",
      "source": [
        "#IQFT Implementation\n",
        "\n",
        "def iqft(n):\n",
        "    qc= QuantumCircuit(n)\n",
        "\n",
        "    #opposite of QFT\n",
        "    for i in reversed(range(n)):\n",
        "        for j in reversed(range(i + 1, n)):\n",
        "            qc.cp(-np.pi / (2 ** (j - i)), j, i)\n",
        "        qc.h(i)\n",
        "\n",
        "    #swap qubits to reverse order\n",
        "    for i in range(n // 2):\n",
        "        qc.swap(i, n - i - 1)\n",
        "\n",
        "    qc.name= \"IQFT\"\n",
        "    return qc"
      ],
      "metadata": {
        "id": "RGtKRgJxuYr1"
      },
      "execution_count": 10,
      "outputs": []
    },
    {
      "cell_type": "code",
      "source": [
        "#sample implementation\n",
        "#example state |101>\n",
        "n= 3\n",
        "qc= QuantumCircuit(n)\n",
        "qc.x(0)\n",
        "qc.x(2)\n",
        "\n",
        "#append QFT and IQFT as instructions\n",
        "qft_gate = qft(n).to_instruction()\n",
        "iqft_gate = iqft(n).to_instruction()\n",
        "\n",
        "qc.append(qft_gate, range(n))\n",
        "qc.append(iqft_gate, range(n))\n",
        "\n",
        "qc.measure_all()\n",
        "\n",
        "#unroll the circuit to the simulator's basis gates\n",
        "unrolled_qc = qc.decompose()\n",
        "\n",
        "\n",
        "result= sim.run(unrolled_qc).result()\n",
        "counts= result.get_counts()\n",
        "plot_histogram(counts)"
      ],
      "metadata": {
        "colab": {
          "base_uri": "https://localhost:8080/",
          "height": 446
        },
        "id": "-v0rvgLxwuVX",
        "outputId": "5ef516ee-968e-43a5-c884-cb30c01eaa4b"
      },
      "execution_count": 12,
      "outputs": [
        {
          "output_type": "execute_result",
          "data": {
            "text/plain": [
              "<Figure size 640x480 with 1 Axes>"
            ],
            "image/png": "[encoded data removed]"
          },
          "metadata": {},
          "execution_count": 12
        }
      ]
    },
    {
      "cell_type": "code",
      "source": [
        "#Phase Estimation\n",
        "#Quantum Phase Estimation(QPE) is an algorithm to estimate the phase theta in an eigenvalue of a unitary operator\n",
        "#Problem Setup:\n",
        "#given a unitary operator U, its eigenvector |Psi> with eigenvalue e^2*pi*i*theta\n",
        "#goal is to estimate theta(unknown phase)"
      ],
      "metadata": {
        "id": "9hD2TUmByb6m"
      },
      "execution_count": 13,
      "outputs": []
    },
    {
      "cell_type": "code",
      "source": [
        "#QPE Implementation\n",
        "\n",
        "def qpe(theta, t=3):\n",
        "\n",
        "    qc = QuantumCircuit(t + 1, t)  #t qubits for phase, 1 for eigenstate\n",
        "    #increase number of qubits for better precision\n",
        "\n",
        "    #initialize eigenstate to |1>\n",
        "    qc.x(t)\n",
        "\n",
        "    #apply Hadamard to phase estimation register\n",
        "    qc.h(range(t))\n",
        "\n",
        "    #apply controlled-U^{2^j} = controlled-Rz(2pi * 2^j * theta)\n",
        "    for j in range(t):\n",
        "        angle = 2 * np.pi * theta * (2 ** j)\n",
        "        qc.cp(angle, j, t)\n",
        "\n",
        "    #apply IQFT to first t qubits\n",
        "\n",
        "    qc.append(iqft(t), range(t)) #use the globally defined iqft function\n",
        "\n",
        "    #measure phase register\n",
        "    qc.measure(range(t), range(t))\n",
        "\n",
        "    return qc"
      ],
      "metadata": {
        "id": "leQrNxe2z6gB"
      },
      "execution_count": 16,
      "outputs": []
    },
    {
      "cell_type": "code",
      "source": [
        "#define the phase theta\n",
        "theta= 1/8\n",
        "\n",
        "qpe_circuit= qpe(theta, t=3)\n",
        "\n",
        "#run on sampler\n",
        "isa_qc= pm.run(qpe_circuit)\n",
        "result= sampler.run([isa_qc]).result()\n",
        "pub_result= result[0]\n",
        "\n",
        "#access the bitstrings from the 'c' attribute of the DataBin\n",
        "bitstrings_data= pub_result.data.c\n",
        "\n",
        "#convert the bitstrings to a list of binary strings by accessing the internal array\n",
        "binary_strings= [bin(int.from_bytes(x, byteorder='big'))[2:].zfill(bitstrings_data.num_bits) for x in bitstrings_data._array]\n",
        "\n",
        "#count the occurrences of each binary string\n",
        "counts= Counter(binary_strings)\n",
        "\n",
        "print(counts)\n",
        "plot_histogram(counts)"
      ],
      "metadata": {
        "colab": {
          "base_uri": "https://localhost:8080/",
          "height": 464
        },
        "id": "5cAUmWo00mgt",
        "outputId": "b4312b36-16ee-4150-9d17-af92c5f08c79"
      },
      "execution_count": 17,
      "outputs": [
        {
          "output_type": "stream",
          "name": "stdout",
          "text": [
            "Counter({'001': 2763, '011': 567, '111': 298, '101': 162, '000': 147, '010': 65, '100': 49, '110': 45})\n"
          ]
        },
        {
          "output_type": "execute_result",
          "data": {
            "text/plain": [
              "<Figure size 640x480 with 1 Axes>"
            ],
            "image/png": "[encoded data removed]"
          },
          "metadata": {},
          "execution_count": 17
        }
      ]
    },
    {
      "cell_type": "code",
      "source": [
        "#Shor's implementation"
      ],
      "metadata": {
        "id": "tze61gNSd8cy"
      },
      "execution_count": 18,
      "outputs": []
    },
    {
      "cell_type": "code",
      "source": [
        "\n",
        "#helper function- GCD\n",
        "def is_coprime(a, N):\n",
        "    return gcd(a, N) == 1\n",
        "\n",
        "#helper function- modular inverse finder\n",
        "def get_order(a, N):\n",
        "    for r in range(1, N):\n",
        "        if pow(a, r, N) == 1:\n",
        "            return r\n",
        "    return None\n",
        "\n",
        "#modular exponentiation unitary\n",
        "def controlled_modular_exponentiation(a, N, power, n):\n",
        "    qc = QuantumCircuit(n + len(bin(N)) - 2)\n",
        "    for i in range(power):\n",
        "        qc.cx(i, i)  # Placeholder: use modular exponentiation logic-- check!\n",
        "    return qc\n",
        "\n",
        "#basic modular QPE\n",
        "def modular_qpe(a, N, n_count=8):\n",
        "    n = n_count\n",
        "    qc = QuantumCircuit(n + len(bin(N)) - 2, n)\n",
        "\n",
        "    #prepare counting qubits in |+> state\n",
        "    for q in range(n):\n",
        "        qc.h(q)\n",
        "\n",
        "    #prepare eigenvector |1> (non-trivial in real case)\n",
        "    qc.x(n)\n",
        "\n",
        "    for q in range(n):\n",
        "        qc.append(controlled_modular_exponentiation(a, N, 2**q, n), list(range(n + len(bin(N)) - 2)))\n",
        "\n",
        "    qc.append(qft(n), range(n))\n",
        "    qc.measure(range(n), range(n))\n",
        "    return qc\n"
      ],
      "metadata": {
        "id": "zHObzwH_KZXs"
      },
      "execution_count": 19,
      "outputs": []
    },
    {
      "cell_type": "code",
      "source": [
        "#classical post-processing\n",
        "def classical_postprocessing(measured_phase, N, a):\n",
        "    theta = measured_phase / (2 ** len(measured_phase))\n",
        "    frac = Fraction(theta).limit_denominator(N)\n",
        "    r = frac.denominator\n",
        "\n",
        "    if r % 2 != 0 or pow(a, r, N) == 1:\n",
        "        return None\n",
        "\n",
        "    x = pow(a, r // 2, N)\n",
        "    factor1 = gcd(x - 1, N)\n",
        "    factor2 = gcd(x + 1, N)\n",
        "\n",
        "    if factor1 in [1, N] or factor2 in [1, N]:\n",
        "        return None\n",
        "\n",
        "    return factor1, factor2\n",
        "\n"
      ],
      "metadata": {
        "id": "VdjtKwk7cEYx"
      },
      "execution_count": 20,
      "outputs": []
    },
    {
      "cell_type": "code",
      "source": [
        "#Shor's main function\n",
        "def shors(N):\n",
        "    while True:\n",
        "        a = randint(2, N)\n",
        "        if gcd(a, N) != 1:\n",
        "            return gcd(a, N), N // gcd(a, N)\n",
        "\n",
        "        qc= modular_qpe(a, N)\n",
        "        transpiled = transpile(qc, backend)\n",
        "        result= sim.run(transpiled, shots=1024).result()\n",
        "        counts= result.get_counts()\n",
        "\n",
        "        #most frequent result\n",
        "        measured= max(counts, key=counts.get)\n",
        "        measured_int= int(measured, 2)\n",
        "\n",
        "        if measured_int == 0:\n",
        "            continue\n",
        "\n",
        "        factor_pair= classical_postprocessing(measured, N, a)\n",
        "        if factor_pair:\n",
        "            return factor_pair"
      ],
      "metadata": {
        "id": "ywCRQ5Crb-8t"
      },
      "execution_count": 21,
      "outputs": []
    },
    {
      "cell_type": "code",
      "source": [
        "#example- factoring 16\n",
        "factors= shors(16)\n",
        "print(\"Factors:\", factors)\n"
      ],
      "metadata": {
        "colab": {
          "base_uri": "https://localhost:8080/"
        },
        "id": "pJrBiZwhapkI",
        "outputId": "79610d76-eba2-4a0e-b827-d5002cfefa63"
      },
      "execution_count": 27,
      "outputs": [
        {
          "output_type": "stream",
          "name": "stdout",
          "text": [
            "Factors: (2, 8)\n"
          ]
        }
      ]
    },
    {
      "cell_type": "code",
      "source": [
        "factors= shors(21)\n",
        "print(\"Factors:\", factors)"
      ],
      "metadata": {
        "colab": {
          "base_uri": "https://localhost:8080/"
        },
        "id": "CcsZQZYU_ck8",
        "outputId": "6fa7653a-bf20-43ce-d184-86654bf2c02c"
      },
      "execution_count": 25,
      "outputs": [
        {
          "output_type": "stream",
          "name": "stdout",
          "text": [
            "Factors: (7, 3)\n"
          ]
        }
      ]
    }
  ]
}