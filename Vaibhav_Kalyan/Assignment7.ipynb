{
  "nbformat": 4,
  "nbformat_minor": 0,
  "metadata": {
    "colab": {
      "provenance": []
    },
    "kernelspec": {
      "name": "python3",
      "display_name": "Python 3"
    },
    "language_info": {
      "name": "python"
    }
  },
  "cells": [
    {
      "cell_type": "code",
      "execution_count": 29,
      "metadata": {
        "colab": {
          "base_uri": "https://localhost:8080/"
        },
        "id": "RWfKFdM5jCSG",
        "outputId": "5dcdf2f4-7018-4969-b6f3-055d007bfc63"
      },
      "outputs": [
        {
          "output_type": "stream",
          "name": "stdout",
          "text": [
            "Requirement already satisfied: qiskit[all] in /usr/local/lib/python3.11/dist-packages (2.1.0)\n",
            "Requirement already satisfied: rustworkx>=0.15.0 in /usr/local/lib/python3.11/dist-packages (from qiskit[all]) (0.16.0)\n",
            "Requirement already satisfied: numpy<3,>=1.17 in /usr/local/lib/python3.11/dist-packages (from qiskit[all]) (2.0.2)\n",
            "Requirement already satisfied: scipy>=1.5 in /usr/local/lib/python3.11/dist-packages (from qiskit[all]) (1.15.3)\n",
            "Requirement already satisfied: dill>=0.3 in /usr/local/lib/python3.11/dist-packages (from qiskit[all]) (0.3.7)\n",
            "Requirement already satisfied: stevedore>=3.0.0 in /usr/local/lib/python3.11/dist-packages (from qiskit[all]) (5.4.1)\n",
            "Requirement already satisfied: typing-extensions in /usr/local/lib/python3.11/dist-packages (from qiskit[all]) (4.14.0)\n",
            "Requirement already satisfied: pbr>=2.0.0 in /usr/local/lib/python3.11/dist-packages (from stevedore>=3.0.0->qiskit[all]) (6.1.1)\n",
            "Requirement already satisfied: qiskit-qasm3-import>=0.1.0 in /usr/local/lib/python3.11/dist-packages (from qiskit[all]) (0.6.0)\n",
            "Requirement already satisfied: matplotlib>=3.3 in /usr/local/lib/python3.11/dist-packages (from qiskit[all]) (3.10.0)\n",
            "Requirement already satisfied: pydot in /usr/local/lib/python3.11/dist-packages (from qiskit[all]) (3.0.4)\n",
            "Requirement already satisfied: Pillow>=4.2.1 in /usr/local/lib/python3.11/dist-packages (from qiskit[all]) (11.2.1)\n",
            "Requirement already satisfied: pylatexenc>=1.4 in /usr/local/lib/python3.11/dist-packages (from qiskit[all]) (2.10)\n",
            "Requirement already satisfied: seaborn>=0.9.0 in /usr/local/lib/python3.11/dist-packages (from qiskit[all]) (0.13.2)\n",
            "Requirement already satisfied: sympy>=1.3 in /usr/local/lib/python3.11/dist-packages (from qiskit[all]) (1.13.1)\n",
            "Requirement already satisfied: z3-solver>=4.7 in /usr/local/lib/python3.11/dist-packages (from qiskit[all]) (4.15.1.0)\n",
            "Requirement already satisfied: python-constraint>=1.4 in /usr/local/lib/python3.11/dist-packages (from qiskit[all]) (1.4.0)\n",
            "Requirement already satisfied: symengine<0.14,>=0.11 in /usr/local/lib/python3.11/dist-packages (from qiskit[all]) (0.13.0)\n",
            "Requirement already satisfied: contourpy>=1.0.1 in /usr/local/lib/python3.11/dist-packages (from matplotlib>=3.3->qiskit[all]) (1.3.2)\n",
            "Requirement already satisfied: cycler>=0.10 in /usr/local/lib/python3.11/dist-packages (from matplotlib>=3.3->qiskit[all]) (0.12.1)\n",
            "Requirement already satisfied: fonttools>=4.22.0 in /usr/local/lib/python3.11/dist-packages (from matplotlib>=3.3->qiskit[all]) (4.58.4)\n",
            "Requirement already satisfied: kiwisolver>=1.3.1 in /usr/local/lib/python3.11/dist-packages (from matplotlib>=3.3->qiskit[all]) (1.4.8)\n",
            "Requirement already satisfied: packaging>=20.0 in /usr/local/lib/python3.11/dist-packages (from matplotlib>=3.3->qiskit[all]) (24.2)\n",
            "Requirement already satisfied: pyparsing>=2.3.1 in /usr/local/lib/python3.11/dist-packages (from matplotlib>=3.3->qiskit[all]) (3.2.3)\n",
            "Requirement already satisfied: python-dateutil>=2.7 in /usr/local/lib/python3.11/dist-packages (from matplotlib>=3.3->qiskit[all]) (2.9.0.post0)\n",
            "Requirement already satisfied: setuptools in /usr/local/lib/python3.11/dist-packages (from pbr>=2.0.0->stevedore>=3.0.0->qiskit[all]) (75.2.0)\n",
            "Requirement already satisfied: openqasm3<2.0,>=0.4 in /usr/local/lib/python3.11/dist-packages (from openqasm3[parser]<2.0,>=0.4->qiskit-qasm3-import>=0.1.0->qiskit[all]) (1.0.1)\n",
            "Requirement already satisfied: pandas>=1.2 in /usr/local/lib/python3.11/dist-packages (from seaborn>=0.9.0->qiskit[all]) (2.2.2)\n",
            "Requirement already satisfied: mpmath<1.4,>=1.1.0 in /usr/local/lib/python3.11/dist-packages (from sympy>=1.3->qiskit[all]) (1.3.0)\n",
            "Requirement already satisfied: antlr4_python3_runtime<4.14,>=4.7 in /usr/local/lib/python3.11/dist-packages (from openqasm3[parser]<2.0,>=0.4->qiskit-qasm3-import>=0.1.0->qiskit[all]) (4.9.3)\n",
            "Requirement already satisfied: pytz>=2020.1 in /usr/local/lib/python3.11/dist-packages (from pandas>=1.2->seaborn>=0.9.0->qiskit[all]) (2025.2)\n",
            "Requirement already satisfied: tzdata>=2022.7 in /usr/local/lib/python3.11/dist-packages (from pandas>=1.2->seaborn>=0.9.0->qiskit[all]) (2025.2)\n",
            "Requirement already satisfied: six>=1.5 in /usr/local/lib/python3.11/dist-packages (from python-dateutil>=2.7->matplotlib>=3.3->qiskit[all]) (1.17.0)\n"
          ]
        }
      ],
      "source": [
        "!pip install qiskit[all]"
      ]
    },
    {
      "cell_type": "code",
      "source": [
        "from qiskit import QuantumCircuit, QuantumRegister, ClassicalRegister\n",
        "from qiskit.quantum_info import Operator\n",
        "from qiskit_aer import AerSimulator\n",
        "from qiskit.visualization import plot_histogram\n",
        "import matplotlib.pyplot as plt"
      ],
      "metadata": {
        "id": "8JhkI9wDy5tf"
      },
      "execution_count": 73,
      "outputs": []
    },
    {
      "cell_type": "code",
      "source": [
        "def deutsch_jozsa_algorithm(n, oracle_op):\n",
        "\n",
        "    x = QuantumRegister(n, \"x\")\n",
        "    y = QuantumRegister(1, \"y\")\n",
        "    c = ClassicalRegister(n, \"c\")\n",
        "    qc = QuantumCircuit(x, y, c)\n",
        "\n",
        "    qc.x(y)\n",
        "\n",
        "    qc.h(x)\n",
        "    qc.h(y)\n",
        "    qc.barrier()\n",
        "\n",
        "    qc.unitary(oracle_op, x[:] + [y[0]], label=\"Uf\")\n",
        "    qc.barrier()\n",
        "\n",
        "    qc.h(x)\n",
        "    qc.barrier()\n",
        "\n",
        "    qc.measure(x, c)\n",
        "\n",
        "    return qc\n"
      ],
      "metadata": {
        "id": "GlPTU5prDJZz"
      },
      "execution_count": 72,
      "outputs": []
    },
    {
      "cell_type": "code",
      "source": [
        "def create_oracle(n, func_type):\n",
        "\n",
        "    qc = QuantumCircuit(n + 1)\n",
        "\n",
        "    if func_type == 'constant_zero':\n",
        "        # Do nothing: f(x) = 0\n",
        "        pass\n",
        "    elif func_type == 'constant_one':\n",
        "        # Flip the output qubit unconditionally: f(x) = 1\n",
        "        qc.x(n)\n",
        "    elif func_type == 'balanced_xor':\n",
        "        # f(x) = x0 XOR x1 XOR ... XOR xn-1\n",
        "        for i in range(n):\n",
        "            qc.cx(i, n)\n",
        "    else:\n",
        "        raise ValueError(\"Unknown function type\")\n",
        "\n",
        "    return Operator(qc)"
      ],
      "metadata": {
        "id": "vvtM1dFaFjny"
      },
      "execution_count": 81,
      "outputs": []
    },
    {
      "cell_type": "code",
      "source": [
        "def run_and_classify(qc, label, shots=1024):\n",
        "    print(f\"\\n{label} - Circuit Diagram:\")\n",
        "    print(qc.draw())\n",
        "\n",
        "    sim = AerSimulator()\n",
        "    result = sim.run(qc, shots=shots).result()\n",
        "    counts = result.get_counts()\n",
        "    \"\"\"Did every single measurement (out of shots) return '000'?\"\n",
        "\n",
        "        If yes → the function is constant\n",
        "\n",
        "        If not → the function is balanced\n",
        "    \"\"\"\n",
        "    if counts.get(\"0\" * qc.num_clbits, 0) == shots:\n",
        "        print(f\"{label}: Function is CONSTANT\")\n",
        "    else:\n",
        "        print(f\"{label}: Function is BALANCED\")\n",
        "\n",
        "    return counts"
      ],
      "metadata": {
        "id": "CLa0ORE_DBhq"
      },
      "execution_count": 86,
      "outputs": []
    },
    {
      "cell_type": "code",
      "source": [
        "n = 3  # number of input bits\n",
        "\n",
        "# Constant function f(x) = 0\n",
        "oracle_const_0 = create_oracle(n, 'constant_zero')\n",
        "qc_const_0 = deutsch_jozsa_algorithm(n, oracle_const_0)\n",
        "run_and_classify(qc_const_0, \"(f(x) = 0)\")\n",
        "\n",
        "# Constant function f(x) = 1\n",
        "oracle_const_1 = create_oracle(n, 'constant_one')\n",
        "qc_const_1 = deutsch_jozsa_algorithm(n, oracle_const_1)\n",
        "run_and_classify(qc_const_1, \"(f(x) = 1)\")\n",
        "\n",
        "# Balanced function f(x) = x0 XOR x1 XOR x2\n",
        "oracle_bal = create_oracle(n, 'balanced_xor')\n",
        "qc_bal = deutsch_jozsa_algorithm(n, oracle_bal)\n",
        "run_and_classify(qc_bal, \" (f(x) = x0 XOR x1 XOR x2)\")"
      ],
      "metadata": {
        "colab": {
          "base_uri": "https://localhost:8080/"
        },
        "id": "zhePEisi0_Kn",
        "outputId": "84acbbd2-9ffe-427d-ef8c-933d9db89add"
      },
      "execution_count": 87,
      "outputs": [
        {
          "output_type": "stream",
          "name": "stdout",
          "text": [
            "\n",
            "(f(x) = 0) - Circuit Diagram:\n",
            "     ┌───┐      ░ ┌─────┐ ░ ┌───┐ ░ ┌─┐      \n",
            "x_0: ┤ H ├──────░─┤0    ├─░─┤ H ├─░─┤M├──────\n",
            "     ├───┤      ░ │     │ ░ ├───┤ ░ └╥┘┌─┐   \n",
            "x_1: ┤ H ├──────░─┤1    ├─░─┤ H ├─░──╫─┤M├───\n",
            "     ├───┤      ░ │  Uf │ ░ ├───┤ ░  ║ └╥┘┌─┐\n",
            "x_2: ┤ H ├──────░─┤2    ├─░─┤ H ├─░──╫──╫─┤M├\n",
            "     ├───┤┌───┐ ░ │     │ ░ └───┘ ░  ║  ║ └╥┘\n",
            "  y: ┤ X ├┤ H ├─░─┤3    ├─░───────░──╫──╫──╫─\n",
            "     └───┘└───┘ ░ └─────┘ ░       ░  ║  ║  ║ \n",
            "c: 3/════════════════════════════════╩══╩══╩═\n",
            "                                     0  1  2 \n",
            "(f(x) = 0): Function is CONSTANT\n",
            "\n",
            "(f(x) = 1) - Circuit Diagram:\n",
            "     ┌───┐      ░ ┌─────┐ ░ ┌───┐ ░ ┌─┐      \n",
            "x_0: ┤ H ├──────░─┤0    ├─░─┤ H ├─░─┤M├──────\n",
            "     ├───┤      ░ │     │ ░ ├───┤ ░ └╥┘┌─┐   \n",
            "x_1: ┤ H ├──────░─┤1    ├─░─┤ H ├─░──╫─┤M├───\n",
            "     ├───┤      ░ │  Uf │ ░ ├───┤ ░  ║ └╥┘┌─┐\n",
            "x_2: ┤ H ├──────░─┤2    ├─░─┤ H ├─░──╫──╫─┤M├\n",
            "     ├───┤┌───┐ ░ │     │ ░ └───┘ ░  ║  ║ └╥┘\n",
            "  y: ┤ X ├┤ H ├─░─┤3    ├─░───────░──╫──╫──╫─\n",
            "     └───┘└───┘ ░ └─────┘ ░       ░  ║  ║  ║ \n",
            "c: 3/════════════════════════════════╩══╩══╩═\n",
            "                                     0  1  2 \n",
            "(f(x) = 1): Function is CONSTANT\n",
            "\n",
            " (f(x) = x0 XOR x1 XOR x2) - Circuit Diagram:\n",
            "     ┌───┐      ░ ┌─────┐ ░ ┌───┐ ░ ┌─┐      \n",
            "x_0: ┤ H ├──────░─┤0    ├─░─┤ H ├─░─┤M├──────\n",
            "     ├───┤      ░ │     │ ░ ├───┤ ░ └╥┘┌─┐   \n",
            "x_1: ┤ H ├──────░─┤1    ├─░─┤ H ├─░──╫─┤M├───\n",
            "     ├───┤      ░ │  Uf │ ░ ├───┤ ░  ║ └╥┘┌─┐\n",
            "x_2: ┤ H ├──────░─┤2    ├─░─┤ H ├─░──╫──╫─┤M├\n",
            "     ├───┤┌───┐ ░ │     │ ░ └───┘ ░  ║  ║ └╥┘\n",
            "  y: ┤ X ├┤ H ├─░─┤3    ├─░───────░──╫──╫──╫─\n",
            "     └───┘└───┘ ░ └─────┘ ░       ░  ║  ║  ║ \n",
            "c: 3/════════════════════════════════╩══╩══╩═\n",
            "                                     0  1  2 \n",
            " (f(x) = x0 XOR x1 XOR x2): Function is BALANCED\n"
          ]
        },
        {
          "output_type": "execute_result",
          "data": {
            "text/plain": [
              "{'111': 1024}"
            ]
          },
          "metadata": {},
          "execution_count": 87
        }
      ]
    }
  ]
}