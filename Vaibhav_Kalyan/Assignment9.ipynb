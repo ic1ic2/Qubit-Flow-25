{
  "nbformat": 4,
  "nbformat_minor": 0,
  "metadata": {
    "colab": {
      "provenance": []
    },
    "kernelspec": {
      "name": "python3",
      "display_name": "Python 3"
    },
    "language_info": {
      "name": "python"
    }
  },
  "cells": [
    {
      "cell_type": "code",
      "execution_count": 1,
      "metadata": {
        "colab": {
          "base_uri": "https://localhost:8080/"
        },
        "id": "tauenhO_lffY",
        "outputId": "091a3d26-0531-4d9a-9955-1ba323fbb9ad"
      },
      "outputs": [
        {
          "output_type": "stream",
          "name": "stdout",
          "text": [
            "Collecting qiskit\n",
            "  Downloading qiskit-2.1.1-cp39-abi3-manylinux_2_17_x86_64.manylinux2014_x86_64.whl.metadata (12 kB)\n",
            "Collecting qiskit-aer\n",
            "  Downloading qiskit_aer-0.17.1-cp311-cp311-manylinux_2_17_x86_64.manylinux2014_x86_64.whl.metadata (8.3 kB)\n",
            "Requirement already satisfied: numpy in /usr/local/lib/python3.11/dist-packages (2.0.2)\n",
            "Requirement already satisfied: matplotlib in /usr/local/lib/python3.11/dist-packages (3.10.0)\n",
            "Collecting rustworkx>=0.15.0 (from qiskit)\n",
            "  Downloading rustworkx-0.16.0-cp39-abi3-manylinux_2_17_x86_64.manylinux2014_x86_64.whl.metadata (10 kB)\n",
            "Requirement already satisfied: scipy>=1.5 in /usr/local/lib/python3.11/dist-packages (from qiskit) (1.15.3)\n",
            "Requirement already satisfied: dill>=0.3 in /usr/local/lib/python3.11/dist-packages (from qiskit) (0.3.7)\n",
            "Collecting stevedore>=3.0.0 (from qiskit)\n",
            "  Downloading stevedore-5.4.1-py3-none-any.whl.metadata (2.3 kB)\n",
            "Requirement already satisfied: typing-extensions in /usr/local/lib/python3.11/dist-packages (from qiskit) (4.14.1)\n",
            "Requirement already satisfied: psutil>=5 in /usr/local/lib/python3.11/dist-packages (from qiskit-aer) (5.9.5)\n",
            "Requirement already satisfied: python-dateutil>=2.8.0 in /usr/local/lib/python3.11/dist-packages (from qiskit-aer) (2.9.0.post0)\n",
            "Requirement already satisfied: contourpy>=1.0.1 in /usr/local/lib/python3.11/dist-packages (from matplotlib) (1.3.2)\n",
            "Requirement already satisfied: cycler>=0.10 in /usr/local/lib/python3.11/dist-packages (from matplotlib) (0.12.1)\n",
            "Requirement already satisfied: fonttools>=4.22.0 in /usr/local/lib/python3.11/dist-packages (from matplotlib) (4.58.5)\n",
            "Requirement already satisfied: kiwisolver>=1.3.1 in /usr/local/lib/python3.11/dist-packages (from matplotlib) (1.4.8)\n",
            "Requirement already satisfied: packaging>=20.0 in /usr/local/lib/python3.11/dist-packages (from matplotlib) (24.2)\n",
            "Requirement already satisfied: pillow>=8 in /usr/local/lib/python3.11/dist-packages (from matplotlib) (11.2.1)\n",
            "Requirement already satisfied: pyparsing>=2.3.1 in /usr/local/lib/python3.11/dist-packages (from matplotlib) (3.2.3)\n",
            "Requirement already satisfied: six>=1.5 in /usr/local/lib/python3.11/dist-packages (from python-dateutil>=2.8.0->qiskit-aer) (1.17.0)\n",
            "Collecting pbr>=2.0.0 (from stevedore>=3.0.0->qiskit)\n",
            "  Downloading pbr-6.1.1-py2.py3-none-any.whl.metadata (3.4 kB)\n",
            "Requirement already satisfied: setuptools in /usr/local/lib/python3.11/dist-packages (from pbr>=2.0.0->stevedore>=3.0.0->qiskit) (75.2.0)\n",
            "Downloading qiskit-2.1.1-cp39-abi3-manylinux_2_17_x86_64.manylinux2014_x86_64.whl (7.5 MB)\n",
            "\u001b[2K   \u001b[90m━━━━━━━━━━━━━━━━━━━━━━━━━━━━━━━━━━━━━━━━\u001b[0m \u001b[32m7.5/7.5 MB\u001b[0m \u001b[31m41.2 MB/s\u001b[0m eta \u001b[36m0:00:00\u001b[0m\n",
            "\u001b[?25hDownloading qiskit_aer-0.17.1-cp311-cp311-manylinux_2_17_x86_64.manylinux2014_x86_64.whl (12.4 MB)\n",
            "\u001b[2K   \u001b[90m━━━━━━━━━━━━━━━━━━━━━━━━━━━━━━━━━━━━━━━━\u001b[0m \u001b[32m12.4/12.4 MB\u001b[0m \u001b[31m60.1 MB/s\u001b[0m eta \u001b[36m0:00:00\u001b[0m\n",
            "\u001b[?25hDownloading rustworkx-0.16.0-cp39-abi3-manylinux_2_17_x86_64.manylinux2014_x86_64.whl (2.1 MB)\n",
            "\u001b[2K   \u001b[90m━━━━━━━━━━━━━━━━━━━━━━━━━━━━━━━━━━━━━━━━\u001b[0m \u001b[32m2.1/2.1 MB\u001b[0m \u001b[31m29.8 MB/s\u001b[0m eta \u001b[36m0:00:00\u001b[0m\n",
            "\u001b[?25hDownloading stevedore-5.4.1-py3-none-any.whl (49 kB)\n",
            "\u001b[2K   \u001b[90m━━━━━━━━━━━━━━━━━━━━━━━━━━━━━━━━━━━━━━━━\u001b[0m \u001b[32m49.5/49.5 kB\u001b[0m \u001b[31m1.7 MB/s\u001b[0m eta \u001b[36m0:00:00\u001b[0m\n",
            "\u001b[?25hDownloading pbr-6.1.1-py2.py3-none-any.whl (108 kB)\n",
            "\u001b[2K   \u001b[90m━━━━━━━━━━━━━━━━━━━━━━━━━━━━━━━━━━━━━━━━\u001b[0m \u001b[32m109.0/109.0 kB\u001b[0m \u001b[31m4.1 MB/s\u001b[0m eta \u001b[36m0:00:00\u001b[0m\n",
            "\u001b[?25hInstalling collected packages: rustworkx, pbr, stevedore, qiskit, qiskit-aer\n",
            "Successfully installed pbr-6.1.1 qiskit-2.1.1 qiskit-aer-0.17.1 rustworkx-0.16.0 stevedore-5.4.1\n"
          ]
        }
      ],
      "source": [
        "pip install qiskit qiskit-aer numpy matplotlib"
      ]
    },
    {
      "cell_type": "code",
      "source": [
        "print(\"QFT: Transforms quantum states into frequency domain\")\n",
        "print(\"IQFT: Inverse transform to extract information\")\n",
        "print(\"Phase Estimation: Estimates eigenvalue phases\")\n",
        "print(\"Shor's Algorithm: Factors integers using period finding\")"
      ],
      "metadata": {
        "colab": {
          "base_uri": "https://localhost:8080/"
        },
        "id": "KWYsbKr1BPnK",
        "outputId": "496eb541-9c54-4b2b-c982-763feb29a0e8"
      },
      "execution_count": 33,
      "outputs": [
        {
          "output_type": "stream",
          "name": "stdout",
          "text": [
            "QFT: Transforms quantum states into frequency domain\n",
            "IQFT: Inverse transform to extract information\n",
            "Phase Estimation: Estimates eigenvalue phases\n",
            "Shor's Algorithm: Factors integers using period finding\n"
          ]
        }
      ]
    },
    {
      "cell_type": "code",
      "source": [
        "import numpy as np\n",
        "from qiskit import QuantumCircuit, transpile\n",
        "from qiskit_aer import AerSimulator\n",
        "from math import pi, gcd"
      ],
      "metadata": {
        "id": "y620GOvHlgLX"
      },
      "execution_count": 19,
      "outputs": []
    },
    {
      "cell_type": "code",
      "source": [
        "simulator = AerSimulator()"
      ],
      "metadata": {
        "id": "mpJ8zR3l8lI6"
      },
      "execution_count": 28,
      "outputs": []
    },
    {
      "cell_type": "code",
      "source": [
        "# QFT Implementation\n",
        "def qft_circuit(n_qubits):\n",
        "    qc = QuantumCircuit(n_qubits)\n",
        "\n",
        "    for i in range(n_qubits):\n",
        "        qc.h(i)\n",
        "        for j in range(i+1, n_qubits):\n",
        "            qc.cp(pi/2**(j-i), i, j)\n",
        "\n",
        "    # Swap qubits to reverse order\n",
        "    for i in range(n_qubits//2):\n",
        "        qc.swap(i, n_qubits-1-i)\n",
        "\n",
        "    return qc\n",
        "\n",
        "qc = QuantumCircuit(3, 3)\n",
        "qc.x(0)  # |1⟩\n",
        "qc.x(2)  # |1⟩\n",
        "qc.append(qft_circuit(3), range(3))\n",
        "qc.measure_all()\n",
        "\n",
        "job = simulator.run(transpile(qc, simulator), shots=1000)\n",
        "result = job.result()\n",
        "counts = result.get_counts()\n",
        "print(\"QFT Results:\")\n",
        "for state, count in sorted(counts.items()):\n",
        "    print(f\"|{state}⟩: {count/1000:.3f}\")"
      ],
      "metadata": {
        "colab": {
          "base_uri": "https://localhost:8080/"
        },
        "id": "swud71Ea4smB",
        "outputId": "1cdd6140-9ee8-42b2-8850-e5ee4187924d"
      },
      "execution_count": 26,
      "outputs": [
        {
          "output_type": "stream",
          "name": "stdout",
          "text": [
            "QFT Results:\n",
            "|000 000⟩: 0.122\n",
            "|001 000⟩: 0.122\n",
            "|010 000⟩: 0.151\n",
            "|011 000⟩: 0.123\n",
            "|100 000⟩: 0.124\n",
            "|101 000⟩: 0.117\n",
            "|110 000⟩: 0.115\n",
            "|111 000⟩: 0.126\n"
          ]
        }
      ]
    },
    {
      "cell_type": "code",
      "source": [
        "# IQFT Implementation\n",
        "def iqft_circuit(n_qubits):\n",
        "    qc = QuantumCircuit(n_qubits)\n",
        "\n",
        "    # Reverse the swaps first\n",
        "    for i in range(n_qubits//2):\n",
        "        qc.swap(i, n_qubits-1-i)\n",
        "\n",
        "    # Reverse the QFT operations\n",
        "    for i in range(n_qubits-1, -1, -1):\n",
        "        for j in range(n_qubits-1, i, -1):\n",
        "            qc.cp(-pi/2**(j-i), i, j)\n",
        "        qc.h(i)\n",
        "\n",
        "    return qc\n",
        "\n",
        "print(\"IQFT Implementation\")\n",
        "\n",
        "qc = QuantumCircuit(3, 3)\n",
        "qc.x(0)  # Start with |100⟩\n",
        "qc.append(qft_circuit(3), range(3))\n",
        "qc.append(iqft_circuit(3), range(3))\n",
        "qc.measure_all()\n",
        "\n",
        "job = simulator.run(transpile(qc, simulator), shots=1000)\n",
        "result = job.result()\n",
        "counts = result.get_counts()\n",
        "print(\"IQFT Results (should recover |100⟩)\")\n",
        "for state, count in sorted(counts.items()):\n",
        "    print(f\"|{state}⟩: {count/1000:.3f}\")\n",
        "\n"
      ],
      "metadata": {
        "colab": {
          "base_uri": "https://localhost:8080/"
        },
        "id": "gDXkF-M574r1",
        "outputId": "b92916bd-55e8-4255-e3c9-498407f08124"
      },
      "execution_count": 48,
      "outputs": [
        {
          "output_type": "stream",
          "name": "stdout",
          "text": [
            "IQFT Implementation\n",
            "IQFT Results (should recover |100⟩)\n",
            "|001 000⟩: 1.000\n"
          ]
        }
      ]
    },
    {
      "cell_type": "code",
      "source": [
        "# Phase Estimation Implementation\n",
        "def phase_estimation_circuit(n_counting_qubits=3):\n",
        "    qc = QuantumCircuit(n_counting_qubits + 1, n_counting_qubits)\n",
        "\n",
        "\n",
        "    for i in range(n_counting_qubits):                                          # Initialize counting qubits in superposition\n",
        "        qc.h(i)\n",
        "\n",
        "    # Prepare eigenstate |1⟩ (eigenstate of Z with eigenvalue -1)\n",
        "    qc.x(n_counting_qubits)\n",
        "\n",
        "    # Apply controlled-Z operations\n",
        "    for j in range(n_counting_qubits):\n",
        "        qc.cz(j, n_counting_qubits)\n",
        "\n",
        "    # Apply IQFT to counting qubits\n",
        "    iqft = iqft_circuit(n_counting_qubits)\n",
        "    qc.append(iqft, range(n_counting_qubits))\n",
        "\n",
        "    # Measure counting qubits\n",
        "    qc.measure(range(n_counting_qubits), range(n_counting_qubits))\n",
        "\n",
        "    return qc\n",
        "\n",
        "qc = phase_estimation_circuit(3)\n",
        "\n",
        "job = simulator.run(transpile(qc, simulator), shots=1000)\n",
        "result = job.result()\n",
        "counts = result.get_counts()\n",
        "print(\"Phase Estimation Results \")\n",
        "for state, count in sorted(counts.items()):\n",
        "    decimal_value = int(state, 2)\n",
        "    estimated_phase = decimal_value / 8\n",
        "    print(f\"|{state}⟩ = {count/1000:.3f}, estimated phase {estimated_phase:.3f}\")\n",
        "print(\"Expected: phase = 0.5 for eigenvalue -1 of Z gate\")\n"
      ],
      "metadata": {
        "colab": {
          "base_uri": "https://localhost:8080/"
        },
        "id": "ifEgpMBM8PZt",
        "outputId": "01464b74-b1f5-4667-a2ec-4f937d16bb15"
      },
      "execution_count": 44,
      "outputs": [
        {
          "output_type": "stream",
          "name": "stdout",
          "text": [
            "Phase Estimation Results \n",
            "|100⟩ = 0.081, estimated phase 0.500\n",
            "|101⟩ = 0.457, estimated phase 0.625\n",
            "|110⟩ = 0.400, estimated phase 0.750\n",
            "|111⟩ = 0.062, estimated phase 0.875\n",
            "Expected: phase = 0.5 for eigenvalue -1 of Z gate\n"
          ]
        }
      ]
    },
    {
      "cell_type": "code",
      "source": [
        "# Shor's Algorithm Implementation\n",
        "def shors_period_finding(N=15, a=7):\n",
        "    n_qubits = 4\n",
        "    qc = QuantumCircuit(2*n_qubits, n_qubits)\n",
        "\n",
        "    # Initialize first register in superposition\n",
        "    for i in range(n_qubits):\n",
        "        qc.h(i)\n",
        "\n",
        "    # Apply controlled modular exponentiation\n",
        "    for i in range(n_qubits):\n",
        "        if i % 2 == 0:\n",
        "            qc.cx(i, n_qubits + i % n_qubits)\n",
        "\n",
        "    # Apply QFT to first register\n",
        "    qft = qft_circuit(n_qubits)\n",
        "    qc.append(qft, range(n_qubits))\n",
        "\n",
        "    # Measure\n",
        "    qc.measure(range(n_qubits), range(n_qubits))\n",
        "\n",
        "    return qc\n",
        "print(\"Shor's Algorithm Implementation\")\n",
        "\n",
        "N = 15\n",
        "a = 7\n",
        "\n",
        "print(f\"Factoring N = {N} using a = {a}\")\n",
        "print(f\"Period verification: {a}^4 mod {N} = {(a**4) % N}\")\n",
        "\n",
        "qc = shors_period_finding(N, a)\n",
        "\n",
        "job = simulator.run(transpile(qc, simulator), shots=1000)\n",
        "result = job.result()\n",
        "counts = result.get_counts()\n",
        "print(\"Quantum Period Finding Results\")\n",
        "for state, count in sorted(counts.items()):\n",
        "    if count > 50:\n",
        "        decimal_value = int(state, 2)\n",
        "        print(f\"|{state}⟩= {count/1000:.3f}, decimal - {decimal_value}\")"
      ],
      "metadata": {
        "colab": {
          "base_uri": "https://localhost:8080/"
        },
        "id": "0vceOaJj8Xuw",
        "outputId": "b032fe03-50da-469b-ee9d-c7775c975e33"
      },
      "execution_count": 47,
      "outputs": [
        {
          "output_type": "stream",
          "name": "stdout",
          "text": [
            "Shor's Algorithm Implementation\n",
            "Factoring N = 15 using a = 7\n",
            "Period verification: 7^4 mod 15 = 1\n",
            "Quantum Period Finding Results\n",
            "|0000⟩= 0.260, decimal - 0\n",
            "|0010⟩= 0.117, decimal - 2\n",
            "|0011⟩= 0.133, decimal - 3\n",
            "|1000⟩= 0.116, decimal - 8\n",
            "|1011⟩= 0.079, decimal - 11\n",
            "|1100⟩= 0.076, decimal - 12\n",
            "|1111⟩= 0.119, decimal - 15\n"
          ]
        }
      ]
    },
    {
      "cell_type": "code",
      "source": [
        "# Classical post-processing\n",
        "r = 4  # Period is 4\n",
        "factor1 = gcd(a**(r//2) - 1, N)\n",
        "factor2 = gcd(a**(r//2) + 1, N)\n",
        "print(f\"Classical post-processing:\")\n",
        "print(f\"gcd({a}^{r//2} - 1, {N}) = {factor1}\")\n",
        "print(f\"gcd({a}^{r//2} + 1, {N}) = {factor2}\")\n",
        "if factor1 > 1 and factor1 < N:\n",
        "    print(f\"Found factors: {factor1} × {N//factor1} = {N}\")\n",
        "elif factor2 > 1 and factor2 < N:\n",
        "    print(f\"Found factors: {factor2} × {N//factor2} = {N}\")"
      ],
      "metadata": {
        "colab": {
          "base_uri": "https://localhost:8080/"
        },
        "id": "usSNJPyB8a2i",
        "outputId": "990116fc-d0e6-4811-b8c2-4e600985af53"
      },
      "execution_count": 43,
      "outputs": [
        {
          "output_type": "stream",
          "name": "stdout",
          "text": [
            "Classical post-processing\n",
            "gcd(7^2 - 1, 15) = 3\n",
            "gcd(7^2 + 1, 15) = 5\n",
            "Found factors: 3 × 5 = 15\n"
          ]
        }
      ]
    }
  ]
}