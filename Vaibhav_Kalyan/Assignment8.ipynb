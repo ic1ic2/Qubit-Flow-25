{
  "nbformat": 4,
  "nbformat_minor": 0,
  "metadata": {
    "colab": {
      "provenance": []
    },
    "kernelspec": {
      "name": "python3",
      "display_name": "Python 3"
    },
    "language_info": {
      "name": "python"
    }
  },
  "cells": [
    {
      "cell_type": "code",
      "execution_count": 10,
      "metadata": {
        "colab": {
          "base_uri": "https://localhost:8080/"
        },
        "id": "z4lD9TQcFb77",
        "outputId": "4acaa3c5-edac-4391-f292-b2ac7d2910d7"
      },
      "outputs": [
        {
          "output_type": "stream",
          "name": "stdout",
          "text": [
            "Searching through 4 items\n",
            "Looking for item 3 in a database of 4 items\n",
            "We'll need 1 amplification steps\n",
            "Probabilty1:= 100.0%\n",
            "\n",
            "Final chances of finding each item:\n",
            "Item 0: 0.0%\n",
            "Item 1: 0.0%\n",
            "Item 2: 0.0%\n",
            "Item 3: 100.0% ← This is what we wanted!\n",
            "\n",
            "Success rate: 100.0%\n",
            "Classical result: 25.0%\n",
            "\n",
            "Searching through 8 items\n",
            "Looking for item 5 in a database of 8 items\n",
            "We'll need 2 amplification steps\n",
            "Probabilty1:= 78.1%\n",
            "Probabilty2:= 94.5%\n",
            "\n",
            "Final chances of finding each item:\n",
            "Item 0: 0.8%\n",
            "Item 1: 0.8%\n",
            "Item 2: 0.8%\n",
            "Item 3: 0.8%\n",
            "Item 4: 0.8%\n",
            "Item 5: 94.5% This is what we wanted!\n",
            "Item 6: 0.8%\n",
            "Item 7: 0.8%\n",
            "\n",
            "Success rate: 94.5%\n",
            "Classical result: 12.5%\n"
          ]
        }
      ],
      "source": [
        "#Grover's Algorithm Simulation\n",
        "\n",
        "import numpy as np\n",
        "from math import sqrt, pi, floor\n",
        "\n",
        "def grovers_algorithm(num_qubits, target_item):\n",
        "\n",
        "    database_size = 2 ** num_qubits\n",
        "\n",
        "    # Initialize uniform superposition of all database items\n",
        "    quantum_state = np.ones(database_size, dtype=complex) / sqrt(database_size)\n",
        "\n",
        "    # Calculate the optimal number of Grover iterations\n",
        "    optimal_steps = floor(pi / 4 * sqrt(database_size))\n",
        "\n",
        "    print(f\"Looking for item {target_item} in a database of {database_size} items\")\n",
        "    print(f\"We'll need {optimal_steps} amplification steps\")\n",
        "\n",
        "    for step in range(optimal_steps):\n",
        "        # Apply the oracle — flip the phase of the target item\n",
        "        quantum_state[target_item] *= -1\n",
        "\n",
        "        # Apply the diffusion operator (inversion about the mean)\n",
        "        average_amplitude = np.mean(quantum_state)\n",
        "        quantum_state = 2 * average_amplitude - quantum_state\n",
        "\n",
        "        # Track the probability of measuring the target item\n",
        "        current_chance = abs(quantum_state[target_item]) ** 2\n",
        "        print(f\"Probabilty{step + 1}:= {current_chance:.1%}\")\n",
        "\n",
        "    # Convert final amplitudes into probabilities\n",
        "    final_chances = np.abs(quantum_state) ** 2\n",
        "    return final_chances\n",
        "\n",
        "def implementsearch():\n",
        "\n",
        "    # Searching through 4 items\n",
        "    print(\"Searching through 4 items\")\n",
        "    search_results = grovers_algorithm(num_qubits=2, target_item=3)\n",
        "\n",
        "    print(\"\\nFinal chances of finding each item:\")\n",
        "    for item_num, chance in enumerate(search_results):\n",
        "        is_target = \" ← This is what we wanted!\" if item_num == 3 else \"\"\n",
        "        print(f\"Item {item_num}: {chance:.1%}{is_target}\")\n",
        "\n",
        "    print(f\"\\nSuccess rate: {search_results[3]:.1%}\")\n",
        "    print(f\"Classical result: {1/4:.1%}\")\n",
        "\n",
        "\n",
        "    print(\"\\nSearching through 8 items\")\n",
        "    search_results = grovers_algorithm(num_qubits=3, target_item=5)\n",
        "\n",
        "    print(\"\\nFinal chances of finding each item:\")\n",
        "    for item_num, chance in enumerate(search_results):\n",
        "        is_target = \" This is what we wanted!\" if item_num == 5 else \"\"\n",
        "        print(f\"Item {item_num}: {chance:.1%}{is_target}\")\n",
        "\n",
        "    print(f\"\\nSuccess rate: {search_results[5]:.1%}\")\n",
        "    print(f\"Classical result: {1/8:.1%}\")\n",
        "\n",
        "\n",
        "if __name__ == \"__main__\":\n",
        "    implementsearch()\n"
      ]
    },
    {
      "cell_type": "code",
      "source": [],
      "metadata": {
        "id": "gazyNw78HJNH"
      },
      "execution_count": null,
      "outputs": []
    }
  ]
}