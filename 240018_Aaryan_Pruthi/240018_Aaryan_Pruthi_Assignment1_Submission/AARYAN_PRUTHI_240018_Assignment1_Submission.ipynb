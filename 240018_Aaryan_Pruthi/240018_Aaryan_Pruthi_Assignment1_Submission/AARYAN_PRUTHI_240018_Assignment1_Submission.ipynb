{
 "cells": [
  {
   "cell_type": "code",
   "execution_count": 141,
   "id": "4cecca13-63fe-413d-9ed2-10d3854f7fa8",
   "metadata": {},
   "outputs": [],
   "source": [
    "from qiskit import QuantumCircuit,transpile\n",
    "from qiskit.quantum_info import Pauli,Operator, Statevector, partial_trace,DensityMatrix\n",
    "from qiskit_aer.primitives import estimator\n",
    "from qiskit_aer import AerSimulator\n",
    "import numpy as np\n",
    "import matplotlib.pyplot as plt"
   ]
  },
  {
   "cell_type": "code",
   "execution_count": null,
   "id": "d6e2cb10-3bed-4f0f-8f8c-4e89f95ec67b",
   "metadata": {},
   "outputs": [
    {
     "data": {
      "image/png": "[encoded data removed]",
      "text/plain": [
       "<Figure size 162.08x367.889 with 1 Axes>"
      ]
     },
     "execution_count": 142,
     "metadata": {},
     "output_type": "execute_result"
    }
   ],
   "source": [
    "qc = QuantumCircuit(3,2)\n",
    "qc.draw('mpl')\n",
    "#declaring the circuit"
   ]
  },
  {
   "cell_type": "code",
   "execution_count": 143,
   "id": "085ddaab-f41f-4b78-a779-0fb97dc3e9cf",
   "metadata": {},
   "outputs": [],
   "source": [
    "def qubit_alice(theta,qc):\n",
    "    qc.ry(2*theta, 0) \n"
   ]
  },
  {
   "cell_type": "code",
   "execution_count": 144,
   "id": "f91c1dd2-2608-4b13-8453-a2dafb5e6096",
   "metadata": {},
   "outputs": [],
   "source": [
    "qubit_alice(np.pi/4,qc)#alice_qubit = (1/root2)*(|0> + |1>) : just for example"
   ]
  },
  {
   "cell_type": "code",
   "execution_count": 145,
   "id": "180a1680-7965-47d0-aad4-655caad96b6c",
   "metadata": {},
   "outputs": [
    {
     "data": {
      "image/png": "[encoded data removed]",
      "text/plain": [
       "<Figure size 287.496x367.889 with 1 Axes>"
      ]
     },
     "execution_count": 145,
     "metadata": {},
     "output_type": "execute_result"
    }
   ],
   "source": [
    "qc.h(1)\n",
    "qc.cx(1,2)\n",
    "qc.draw('mpl')"
   ]
  },
  {
   "cell_type": "code",
   "execution_count": 146,
   "id": "2f7abcc1-8dc7-49eb-939f-497cf39a7175",
   "metadata": {},
   "outputs": [
    {
     "data": {
      "image/png": "[encoded data removed]",
      "text/plain": [
       "<Figure size 454.719x367.889 with 1 Axes>"
      ]
     },
     "execution_count": 146,
     "metadata": {},
     "output_type": "execute_result"
    }
   ],
   "source": [
    "qc.cx(0,1)\n",
    "qc.h(0)\n",
    "qc.draw('mpl')"
   ]
  },
  {
   "cell_type": "code",
   "execution_count": 147,
   "id": "b258748c-3acc-434f-a74e-4e6f5cd772ff",
   "metadata": {},
   "outputs": [
    {
     "name": "stdout",
     "output_type": "stream",
     "text": [
      "Alice_measurement in classical bits 10\n",
      "\n",
      "Bob's qubit before applying the condition gates(density matrix):\n",
      "DensityMatrix([[0.5+0.000000e+00j, 0.5-6.123234e-17j],\n",
      "               [0.5+6.123234e-17j, 0.5+0.000000e+00j]],\n",
      "              dims=(2,))\n",
      "\n",
      "Bob's qubit as statevector without applying the condition gates:\n",
      "Statevector([0.70710678-8.65956056e-17j, 0.70710678+0.00000000e+00j],\n",
      "            dims=(2,))\n"
     ]
    }
   ],
   "source": [
    "\n",
    "qc.save_statevector()\n",
    "\n",
    "sim = AerSimulator()\n",
    "compiled = transpile(qc, sim)\n",
    "result = sim.run(compiled).result()\n",
    "\n",
    "sv = result.get_statevector()\n",
    "state = Statevector(sv)\n",
    "\n",
    "\n",
    "outcome, collapsed = state.measure([1, 0])#measuring the qubits of alice in the order 1,0 so that the entangled one comes first.\n",
    "if(outcome == '01'):\n",
    "    print(\"Alice_measurement in classical bits 10\\n\")\n",
    "elif(outcome == '10'):\n",
    "    print(\"Alice_measurement in classical bits 01\\n\")\n",
    "else:\n",
    "    print(\"Alice_measurement in classical bits \",outcome)#Note that I have used 1,0 so when I measure the outcome the first qubit comes from the entangled state and the second from alice \n",
    "\n",
    "bob_rho = partial_trace(collapsed, [0, 1])\n",
    "\n",
    "# Print density matrix\n",
    "print(\"Bob's qubit before applying the condition gates(density matrix):\")#before applying any correction this is the bob's qubit's density matrix\n",
    "print(bob_rho)\n",
    "\n",
    "\n",
    "bob_sv = DensityMatrix(bob_rho).to_statevector()\n",
    "print(\"\\nBob's qubit as statevector without applying the condition gates:\")\n",
    "print(bob_sv)\n"
   ]
  },
  {
   "cell_type": "code",
   "execution_count": 148,
   "id": "0e8325a4-e7c2-4448-a05b-1dcc64818e62",
   "metadata": {},
   "outputs": [
    {
     "data": {
      "image/png": "[encoded data removed]",
      "text/plain": [
       "<Figure size 203.885x284.278 with 1 Axes>"
      ]
     },
     "execution_count": 148,
     "metadata": {},
     "output_type": "execute_result"
    }
   ],
   "source": [
    "bob_circuit = QuantumCircuit(3)  #Made a new circuit so that I can apply my corrections on the collapsed state.\n",
    "\n",
    "#Basic conditions to apply for bob\n",
    "if outcome == '01':\n",
    "    bob_circuit.x(2)\n",
    "elif outcome == '10':\n",
    "    bob_circuit.z(2)\n",
    "elif outcome == '11':\n",
    "    bob_circuit.x(2)\n",
    "    bob_circuit.z(2)\n",
    "bob_circuit.draw('mpl')\n",
    "\n"
   ]
  },
  {
   "cell_type": "code",
   "execution_count": 149,
   "id": "2613f530-0422-4146-b18d-5f6f92a7ad2e",
   "metadata": {},
   "outputs": [
    {
     "name": "stdout",
     "output_type": "stream",
     "text": [
      "\n",
      "Bob's final qubit (density matrix):\n",
      "DensityMatrix([[0.5+0.000000e+00j, 0.5+6.123234e-17j],\n",
      "               [0.5-6.123234e-17j, 0.5+0.000000e+00j]],\n",
      "              dims=(2,))\n",
      "\n",
      "Bob's final qubit as statevector:\n",
      "Statevector([0.70710678+8.65956056e-17j, 0.70710678+0.00000000e+00j],\n",
      "            dims=(2,))\n"
     ]
    }
   ],
   "source": [
    "corrected_state = collapsed.evolve(bob_circuit)\n",
    "bob_rho = partial_trace(corrected_state, [0, 1])\n",
    "\n",
    "# Print density matrix\n",
    "print(\"\\nBob's final qubit (density matrix):\")#before applying any correction this is the bob's qubit's density matrix\n",
    "print(bob_rho)\n",
    "\n",
    "\n",
    "bob_sv = DensityMatrix(bob_rho).to_statevector()\n",
    "print(\"\\nBob's final qubit as statevector:\")\n",
    "print(bob_sv)"
   ]
  },
  {
   "cell_type": "code",
   "execution_count": null,
   "id": "54029885-a8d3-47f3-9f78-e98987a80e1a",
   "metadata": {},
   "outputs": [],
   "source": []
  }
 ],
 "metadata": {
  "kernelspec": {
   "display_name": "Python 3 (ipykernel)",
   "language": "python",
   "name": "python3"
  },
  "language_info": {
   "codemirror_mode": {
    "name": "ipython",
    "version": 3
   },
   "file_extension": ".py",
   "mimetype": "text/x-python",
   "name": "python",
   "nbconvert_exporter": "python",
   "pygments_lexer": "ipython3",
   "version": "3.10.13"
  }
 },
 "nbformat": 4,
 "nbformat_minor": 5
}
