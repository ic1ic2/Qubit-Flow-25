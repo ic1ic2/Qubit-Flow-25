{
  "cells": [
    {
      "cell_type": "markdown",
      "id": "d50d0b8f",
      "metadata": {
        "id": "d50d0b8f"
      },
      "source": [
        "# Grover's Algorithm — Qiskit Implementation"
      ]
    },
    {
      "cell_type": "markdown",
      "id": "4d589f6e",
      "metadata": {
        "id": "4d589f6e"
      },
      "source": [
        "\n",
        "This notebook implements **Grover's Algorithm**.\n",
        "\n",
        "**Goal**: Find a marked element $( x^* $) such that $( f(x^*) = 1 $), using a quantum oracle that flips the phase of the solution.\n",
        "\n",
        "Grover’s search allows us to find $( x^* \\in \\{0,1\\}^n $) using $( $mathcal{O}($sqrt{2^n}) $) queries instead of $( \\mathcal{O}(2^n) $) classically.\n"
      ]
    },
    {
      "cell_type": "markdown",
      "source": [
        "##Installing and Importing Dependencies"
      ],
      "metadata": {
        "id": "XRXTu6hNI2uq"
      },
      "id": "XRXTu6hNI2uq"
    },
    {
      "cell_type": "code",
      "execution_count": 1,
      "id": "89263795",
      "metadata": {
        "colab": {
          "base_uri": "https://localhost:8080/"
        },
        "id": "89263795",
        "outputId": "212dc8a2-1ab3-4d59-ada1-2b02dc5f2a68"
      },
      "outputs": [
        {
          "output_type": "stream",
          "name": "stdout",
          "text": [
            "\u001b[?25l     \u001b[90m━━━━━━━━━━━━━━━━━━━━━━━━━━━━━━━━━━━━━━━━\u001b[0m \u001b[32m0.0/162.6 kB\u001b[0m \u001b[31m?\u001b[0m eta \u001b[36m-:--:--\u001b[0m\r\u001b[2K     \u001b[90m━━━━━━━━━━━━━━━━━━━━━━━━━━━━━━━━━━━━━━━\u001b[0m \u001b[32m162.6/162.6 kB\u001b[0m \u001b[31m6.0 MB/s\u001b[0m eta \u001b[36m0:00:00\u001b[0m\n",
            "\u001b[?25h  Preparing metadata (setup.py) ... \u001b[?25l\u001b[?25hdone\n",
            "\u001b[2K   \u001b[90m━━━━━━━━━━━━━━━━━━━━━━━━━━━━━━━━━━━━━━━━\u001b[0m \u001b[32m7.5/7.5 MB\u001b[0m \u001b[31m34.2 MB/s\u001b[0m eta \u001b[36m0:00:00\u001b[0m\n",
            "\u001b[2K   \u001b[90m━━━━━━━━━━━━━━━━━━━━━━━━━━━━━━━━━━━━━━━━\u001b[0m \u001b[32m12.4/12.4 MB\u001b[0m \u001b[31m28.5 MB/s\u001b[0m eta \u001b[36m0:00:00\u001b[0m\n",
            "\u001b[2K   \u001b[90m━━━━━━━━━━━━━━━━━━━━━━━━━━━━━━━━━━━━━━━━\u001b[0m \u001b[32m2.1/2.1 MB\u001b[0m \u001b[31m38.0 MB/s\u001b[0m eta \u001b[36m0:00:00\u001b[0m\n",
            "\u001b[2K   \u001b[90m━━━━━━━━━━━━━━━━━━━━━━━━━━━━━━━━━━━━━━━━\u001b[0m \u001b[32m49.5/49.5 kB\u001b[0m \u001b[31m3.3 MB/s\u001b[0m eta \u001b[36m0:00:00\u001b[0m\n",
            "\u001b[2K   \u001b[90m━━━━━━━━━━━━━━━━━━━━━━━━━━━━━━━━━━━━━━━━\u001b[0m \u001b[32m109.0/109.0 kB\u001b[0m \u001b[31m6.3 MB/s\u001b[0m eta \u001b[36m0:00:00\u001b[0m\n",
            "\u001b[?25h  Building wheel for pylatexenc (setup.py) ... \u001b[?25l\u001b[?25hdone\n"
          ]
        }
      ],
      "source": [
        "!pip install qiskit qiskit-aer matplotlib pylatexenc --quiet"
      ]
    },
    {
      "cell_type": "code",
      "execution_count": 3,
      "id": "5179086f",
      "metadata": {
        "id": "5179086f"
      },
      "outputs": [],
      "source": [
        "from qiskit import QuantumCircuit, transpile\n",
        "from qiskit.visualization import plot_histogram\n",
        "from qiskit_aer import AerSimulator\n",
        "from qiskit.circuit.library import ZGate\n",
        "from qiskit.quantum_info import Statevector\n",
        "import numpy as np\n",
        "import matplotlib.pyplot as plt\n"
      ]
    },
    {
      "cell_type": "markdown",
      "id": "e80b6b07",
      "metadata": {
        "id": "e80b6b07"
      },
      "source": [
        "### Define the Oracle"
      ]
    },
    {
      "cell_type": "code",
      "execution_count": 4,
      "id": "02a1a28d",
      "metadata": {
        "id": "02a1a28d"
      },
      "outputs": [],
      "source": [
        "def grover_oracle(n, marked_index):\n",
        "    oracle = QuantumCircuit(n)\n",
        "    binary = format(marked_index, f'0{n}b')\n",
        "    for i, bit in enumerate(binary):\n",
        "        if bit == '0':\n",
        "            oracle.x(i)\n",
        "    oracle.h(n-1)\n",
        "    oracle.mcx(list(range(n-1)), n-1)\n",
        "    oracle.h(n-1)\n",
        "    for i, bit in enumerate(binary):\n",
        "        if bit == '0':\n",
        "            oracle.x(i)\n",
        "    return oracle\n"
      ]
    },
    {
      "cell_type": "markdown",
      "id": "4944ab1d",
      "metadata": {
        "id": "4944ab1d"
      },
      "source": [
        "### Define the Diffusion Operator"
      ]
    },
    {
      "cell_type": "code",
      "execution_count": 5,
      "id": "8d53d33c",
      "metadata": {
        "id": "8d53d33c"
      },
      "outputs": [],
      "source": [
        "def diffuser(n):\n",
        "    qc = QuantumCircuit(n)\n",
        "    qc.h(range(n))\n",
        "    qc.x(range(n))\n",
        "    qc.h(n-1)\n",
        "    qc.mcx(list(range(n-1)), n-1)\n",
        "    qc.h(n-1)\n",
        "    qc.x(range(n))\n",
        "    qc.h(range(n))\n",
        "    return qc\n"
      ]
    },
    {
      "cell_type": "markdown",
      "id": "4d376f0b",
      "metadata": {
        "id": "4d376f0b"
      },
      "source": [
        "### Build and Run Grover's Algorithm"
      ]
    },
    {
      "cell_type": "code",
      "execution_count": 6,
      "id": "47d9c718",
      "metadata": {
        "colab": {
          "base_uri": "https://localhost:8080/",
          "height": 320
        },
        "id": "47d9c718",
        "outputId": "75455e58-59fb-4581-af87-60155359c719"
      },
      "outputs": [
        {
          "output_type": "execute_result",
          "data": {
            "text/plain": [
              "<Figure size 956.385x367.889 with 1 Axes>"
            ],
            "image/png": "[encoded data removed]"
          },
          "metadata": {},
          "execution_count": 6
        }
      ],
      "source": [
        "n = 3  # number of qubits\n",
        "N = 2 ** n\n",
        "marked_index = 5  # the index to search for, f(x=5)=1\n",
        "\n",
        "grover_circuit = QuantumCircuit(n, n)\n",
        "grover_circuit.h(range(n))  # step 1: create superposition\n",
        "\n",
        "# Calculate optimal number of iterations\n",
        "r = int(np.floor(np.pi/4 * np.sqrt(N)))\n",
        "\n",
        "oracle = grover_oracle(n, marked_index)\n",
        "diff = diffuser(n)\n",
        "\n",
        "for _ in range(r):\n",
        "    grover_circuit.append(oracle.to_gate(label=\"Uf\"), range(n))\n",
        "    grover_circuit.append(diff.to_gate(label=\"Diffusion\"), range(n))\n",
        "\n",
        "grover_circuit.measure(range(n), range(n))\n",
        "grover_circuit.draw('mpl')\n"
      ]
    },
    {
      "cell_type": "markdown",
      "id": "c6e77af0",
      "metadata": {
        "id": "c6e77af0"
      },
      "source": [
        "### Simulate and Visualize Output"
      ]
    },
    {
      "cell_type": "code",
      "execution_count": 10,
      "id": "a19ea819",
      "metadata": {
        "colab": {
          "base_uri": "https://localhost:8080/",
          "height": 487
        },
        "id": "a19ea819",
        "outputId": "ec33e491-bbf1-4260-f9a8-9a52808b8614"
      },
      "outputs": [
        {
          "output_type": "display_data",
          "data": {
            "text/plain": [
              "<Figure size 640x480 with 1 Axes>"
            ],
            "image/png": "[encoded data removed]"
          },
          "metadata": {}
        }
      ],
      "source": [
        "sim = AerSimulator()\n",
        "compiled = transpile(grover_circuit, sim)\n",
        "result = sim.run(compiled, shots=1024).result()\n",
        "counts = result.get_counts()\n",
        "hist=plot_histogram(counts, title=\"Grover's Algorithm Output\")\n",
        "display(hist)\n"
      ]
    },
    {
      "cell_type": "markdown",
      "id": "2d480f50",
      "metadata": {
        "id": "2d480f50"
      },
      "source": [
        "### Interpretation\n",
        "\n",
        "The histogram shows the most probable output after applying Grover’s operator multiple times. Ideally, the state corresponding to the marked index (in this case `101`) has the highest probability.\n",
        "\n",
        "This verifies that Grover's algorithm has successfully amplified the marked state's amplitude using a small number of iterations.\n"
      ]
    }
  ],
  "metadata": {
    "kernelspec": {
      "display_name": "Python 3",
      "name": "python3"
    },
    "language_info": {
      "name": "python",
      "version": "3.11"
    },
    "colab": {
      "provenance": []
    }
  },
  "nbformat": 4,
  "nbformat_minor": 5
}