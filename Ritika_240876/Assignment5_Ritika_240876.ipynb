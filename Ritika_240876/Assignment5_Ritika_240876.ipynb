{
  "cells": [
    {
      "cell_type": "markdown",
      "source": [
        "# Assignment 5.1"
      ],
      "metadata": {
        "id": "wfNy4xw0iS5C"
      },
      "id": "wfNy4xw0iS5C"
    },
    {
      "cell_type": "markdown",
      "id": "f67ec71c-206b-45fc-a6f2-ec58b4891d4c",
      "metadata": {
        "id": "f67ec71c-206b-45fc-a6f2-ec58b4891d4c"
      },
      "source": [
        "### IBM Quantum Challenge Lab 3: What's Next - Sneak Preview of AI-Powered Transpilation with Qiskit Transpiler Service\n",
        "\n"
      ]
    },
    {
      "cell_type": "markdown",
      "id": "bf00347e-9ffd-4f4d-9270-21eb512f8f96",
      "metadata": {
        "id": "bf00347e-9ffd-4f4d-9270-21eb512f8f96"
      },
      "source": [
        "# Imports"
      ]
    },
    {
      "cell_type": "markdown",
      "id": "3c4bb49c-26f3-4b0a-b8fa-e25f2882a688",
      "metadata": {
        "id": "3c4bb49c-26f3-4b0a-b8fa-e25f2882a688"
      },
      "source": [
        "As always we'll start with the optional installs. You only need to use the Qiskit install and API Token cells if you don't have those saved from a previous lab."
      ]
    },
    {
      "cell_type": "code",
      "execution_count": null,
      "id": "abb25eb9-4327-4ae0-9db4-745b87194a3d",
      "metadata": {
        "scrolled": true,
        "id": "abb25eb9-4327-4ae0-9db4-745b87194a3d"
      },
      "outputs": [],
      "source": [
        "### Install Qiskit and relevant packages, if needed\n",
        "### IMPORTANT: Make sure you are using python 3.10 or 3.11 for compatibility of the required packages\n",
        "%pip install qiskit[visualization]==1.0.2\n",
        "%pip install qiskit-ibm-runtime\n",
        "%pip install qiskit-aer\n",
        "%pip install graphviz\n",
        "%pip install qiskit-transpiler-service\n",
        "%pip install git+https://github.com/qiskit-community/Quantum-Challenge-Grader.git -U"
      ]
    },
    {
      "cell_type": "code",
      "execution_count": 2,
      "id": "ef1f5086",
      "metadata": {
        "id": "ef1f5086",
        "colab": {
          "base_uri": "https://localhost:8080/"
        },
        "outputId": "e7f71a11-ce32-4976-c8db-9e3ef6ddc5df"
      },
      "outputs": [
        {
          "output_type": "stream",
          "name": "stdout",
          "text": [
            "env: QXToken=5326d46468baaa58ef730a37a2f5dae3cf61a47261e94ec3762050177171d2921b2aec17d1081ac80d24d3e0ea7b8bbad0036d46be935c78bae5258a26722666\n"
          ]
        }
      ],
      "source": [
        "### Save API Token, if needed\n",
        "\n",
        "%set_env QXToken=5326d46468baaa58ef730a37a2f5dae3cf61a47261e94ec3762050177171d2921b2aec17d1081ac80d24d3e0ea7b8bbad0036d46be935c78bae5258a26722666\n",
        "\n",
        "# Make sure there is no space between the equal sign\n",
        "# and the beginning of your token"
      ]
    },
    {
      "cell_type": "code",
      "execution_count": 3,
      "id": "37500cae",
      "metadata": {
        "id": "37500cae",
        "colab": {
          "base_uri": "https://localhost:8080/",
          "height": 36
        },
        "outputId": "ebd388de-7a12-4ac9-9df2-0d9325b4a7d9"
      },
      "outputs": [
        {
          "output_type": "execute_result",
          "data": {
            "text/plain": [
              "'0.22.6'"
            ],
            "application/vnd.google.colaboratory.intrinsic+json": {
              "type": "string"
            }
          },
          "metadata": {},
          "execution_count": 3
        }
      ],
      "source": [
        "# qc-grader should be 0.18.10 (or higher)\n",
        "import qc_grader\n",
        "\n",
        "qc_grader.__version__"
      ]
    },
    {
      "cell_type": "code",
      "execution_count": 4,
      "id": "1aff5103-c92a-45b0-93bb-f5b034de45c4",
      "metadata": {
        "id": "1aff5103-c92a-45b0-93bb-f5b034de45c4"
      },
      "outputs": [],
      "source": [
        "# Imports\n",
        "\n",
        "import numpy as np\n",
        "import matplotlib.pyplot as plt\n",
        "from qiskit.circuit.library import EfficientSU2\n",
        "from qiskit.transpiler.preset_passmanagers import generate_preset_pass_manager\n",
        "from qiskit_ibm_runtime import QiskitRuntimeService\n",
        "from qiskit_transpiler_service.transpiler_service import TranspilerService"
      ]
    },
    {
      "cell_type": "code",
      "source": [
        "from qiskit_ibm_runtime import QiskitRuntimeService\n",
        "\n",
        "# Save your IBM Quantum account\n",
        "# IMPORTANT: Replace \"YOUR_API_TOKEN\" with your actual API token\n",
        "QiskitRuntimeService.save_account(\n",
        "    channel=\"ibm_quantum\",\n",
        "    token=\"5326d46468baaa58ef730a37a2f5dae3cf61a47261e94ec3762050177171d2921b2aec17d1081ac80d24d3e0ea7b8bbad0036d46be935c78bae5258a26722666\", # Replace YOUR_API_TOKEN with your actual token\n",
        "    set_as_default=True,\n",
        "    overwrite=True # Use overwrite=True if you're updating your token\n",
        ")\n",
        "\n",
        "# Load saved credentials\n",
        "service = QiskitRuntimeService()\n",
        "\n",
        "# Confirm service is loaded\n",
        "print(\"IBM Quantum Runtime Service loaded successfully.\")"
      ],
      "metadata": {
        "id": "F3vUlpGBy03X",
        "outputId": "e51d4adc-8ce2-4c90-d1e5-7ae39f1b3e25",
        "colab": {
          "base_uri": "https://localhost:8080/"
        }
      },
      "id": "F3vUlpGBy03X",
      "execution_count": 20,
      "outputs": [
        {
          "output_type": "stream",
          "name": "stdout",
          "text": [
            "IBM Quantum Runtime Service loaded successfully.\n"
          ]
        }
      ]
    },
    {
      "cell_type": "code",
      "execution_count": null,
      "id": "08927292-6f1a-4490-901a-fdcdc3b411f8",
      "metadata": {
        "id": "08927292-6f1a-4490-901a-fdcdc3b411f8"
      },
      "outputs": [],
      "source": [
        "# Import for grader\n",
        "from qc_grader.challenges.iqc_2024 import grade_lab3_ait_ex1, grade_lab3_ait_ex2"
      ]
    },
    {
      "cell_type": "markdown",
      "id": "545418e9-a530-4e11-a323-d01177dd1da0",
      "metadata": {
        "id": "545418e9-a530-4e11-a323-d01177dd1da0"
      },
      "source": [
        "## Introduction\n",
        "\n",
        "Welcome to Lab 3! Today, we are thrilled to give you an exclusive sneak peek into some of the exciting new features that are being developed for the Qiskit stack. This educational challenge is split into separate notebooks, each showcasing a unique and groundbreaking innovation and invites you to explore and test these new features. Dive in to explore tools like the Circuit Knitting Toolbox to simplify complex quantum circuits, experience the workflow to setup seamless integration of quantum and classical computing with Qiskit Serverless and have a chance to leverage AI-Powered tools like the Qiskit Code Assistant for code generation and circuit optimization with AI-Powered Transpiler Passes. Dive in and discover how these innovations are set to revolutionize quantum development!\n",
        "\n",
        "<div class=\"alert alert-block alert-danger\">\n",
        "\n",
        "Please note, **these features are in beta and release preview**, so you most likely will encounter some bugs. Have fun experimenting and pushing the boundaries of quantum development!\n",
        "\n",
        "</div>"
      ]
    },
    {
      "cell_type": "markdown",
      "id": "430cc7b6-46f2-4077-9746-edbb079ff0db",
      "metadata": {
        "id": "430cc7b6-46f2-4077-9746-edbb079ff0db"
      },
      "source": [
        "# Introducing AI-powered transpiler passes using Qiskit Transpiler service\n",
        "\n",
        "In this hands-on exercise, you'll have the opportunity to explore the cutting-edge capabilities of AI-powered transpiler passes in Qiskit. With the recent beta release of the Qiskit Transpiler Service, you can now leverage AI and IBM Cloud&reg; resources to optimize your quantum circuits more efficiently.\n",
        "\n",
        "Transpiling abstract quantum circuits to match the constraints and characteristics of specific quantum devices is a crucial step in a quantum computing workflow. As we learned in lab 2, this process traditionally relies on heuristic algorithms, but the new AI-powered transpiler passes offer the potential for more efficient, and higher-quality transpilation while being fast enough for practical applications.  For this challenge, we are providing you with beta access to the Qiskit Transpiler Service to experiment with.\n",
        "\n",
        "**To learn more about the tool, please check out the full [blog](https://www.ibm.com/quantum/blog/ai-transpiler-passes) and [arxiv paper](https://arxiv.org/abs/2405.13196).** Documentation for the tool can be found in the [IBM Quantum Platform docs](https://docs.quantum.ibm.com/transpile/qiskit-transpiler-service).\n",
        "\n",
        "In this exercise, you'll get to experiment with these AI-powered transpiler passes using this beta release preview, compare them to traditional methods, and understand how they can enhance your quantum computing workflows. Let's dive in and start exploring the future of quantum circuit optimization!"
      ]
    },
    {
      "cell_type": "markdown",
      "id": "75b7f2b4-31e5-4ebc-82fd-330f0bcdd807",
      "metadata": {
        "id": "75b7f2b4-31e5-4ebc-82fd-330f0bcdd807"
      },
      "source": [
        "## Step 1: Create your circuit\n",
        "\n",
        "Begin by creating a quantum circuit using Qiskit's circuit library. In this step, you'll define the structure and gates of your quantum circuit. This will serve as the basis for the subsequent transpilation and optimization tasks. We will use a very similar circuit to the one shown in the original paper [paper](https://arxiv.org/abs/2405.13196)"
      ]
    },
    {
      "cell_type": "markdown",
      "id": "da050482-4412-41e2-9548-9e84a45749c3",
      "metadata": {
        "id": "da050482-4412-41e2-9548-9e84a45749c3"
      },
      "source": [
        "<div class=\"alert alert-block alert-info\">\n",
        "\n",
        "**IMPORTANT:** Please ensure you have the `qiskit-transpiler-service` package installed and your token set up to use the IBM Quantum Platform. You can find instructions on how to do this in the documentation link [here](https://docs.quantum.ibm.com/start/setup-channel#set-up-to-use-ibm-quantum-platform)\n",
        "\n",
        "</div>"
      ]
    },
    {
      "cell_type": "code",
      "execution_count": 22,
      "id": "392639ca-7190-4c32-b531-b41960e7ea91",
      "metadata": {
        "scrolled": true,
        "id": "392639ca-7190-4c32-b531-b41960e7ea91"
      },
      "outputs": [],
      "source": [
        "NUM_QUBITS = 61"
      ]
    },
    {
      "cell_type": "code",
      "execution_count": 23,
      "id": "8502685d-24fd-4a0b-b993-45b185b72a07",
      "metadata": {
        "scrolled": true,
        "id": "8502685d-24fd-4a0b-b993-45b185b72a07",
        "colab": {
          "base_uri": "https://localhost:8080/",
          "height": 844
        },
        "outputId": "e51cd349-6fab-4e8c-9458-3bf606fbbaf2"
      },
      "outputs": [
        {
          "output_type": "stream",
          "name": "stdout",
          "text": [
            "Original circuit -> Depth: 65, CNOTs: 61\n"
          ]
        },
        {
          "output_type": "execute_result",
          "data": {
            "text/plain": [
              "<Figure size 1114.69x1026.74 with 1 Axes>"
            ],
            "image/png": "[encoded data removed]"
          },
          "metadata": {},
          "execution_count": 23
        }
      ],
      "source": [
        "circuit = EfficientSU2(NUM_QUBITS, entanglement=\"circular\", reps=1).decompose()\n",
        "\n",
        "print(f\"Original circuit -> Depth: {circuit.depth()}, CNOTs: {circuit.num_nonlocal_gates()}\")\n",
        "circuit.draw(fold=-1, output=\"mpl\", style=\"iqp\", scale=0.2)"
      ]
    },
    {
      "cell_type": "markdown",
      "id": "46eec6f3-d4d5-40fd-97fa-d7fca0fa8344",
      "metadata": {
        "id": "46eec6f3-d4d5-40fd-97fa-d7fca0fa8344"
      },
      "source": [
        "## Step 2: Transpile and Optimize your circuit\n",
        "\n",
        "In this step, you'll transpile and optimize your circuit using the Qiskit Transpiler Service. We will perform this process twice: first without AI and then with AI-powered transpiler passes. We will be using the Qiskit Transpiler Service for this section. The Qiskit Transpiler Service provides both heuristic and AI-powered transpilation capabilities on the cloud. We can leverage running transpilation tasks to benefit from IBM Quantum™ cloud resources and advanced AI-powered transpiler passes. **For more information, refer to the Qiskit Transpiler Service documentation [here](https://docs.quantum.ibm.com/transpile/qiskit-transpiler-service)**\n"
      ]
    },
    {
      "cell_type": "markdown",
      "id": "cd951713-03e5-4f81-8ff3-c3e60c3d3772",
      "metadata": {
        "id": "cd951713-03e5-4f81-8ff3-c3e60c3d3772"
      },
      "source": [
        "#### Qiskit Transpiler Service - without AI\n",
        "Without AI: Use the traditional heuristic methods available in the Qiskit Transpiler service to transpile your circuit."
      ]
    },
    {
      "cell_type": "markdown",
      "id": "c665e734-ebb8-4f66-95d9-6e752d9c7370",
      "metadata": {
        "id": "c665e734-ebb8-4f66-95d9-6e752d9c7370"
      },
      "source": [
        "<a id=\"exercise1\"></a>\n",
        "<div class=\"alert alert-block alert-success\">\n",
        "    \n",
        "<b> Exercise 1:</b>\n",
        "\n",
        "Let's set up the Qiskit Transpiler service to transpile our circuit on cloud. Ensure you have the latest version of Qiskit Transpiler Service installed and configured. We'll use the `ibm_brisbane` backend for this exercise. Set the backend and configure the transpiler with an optimization level of `3`, **without the AI flag turned on**.\n",
        "</div>"
      ]
    },
    {
      "cell_type": "code",
      "execution_count": null,
      "id": "c00dae26-e073-45d0-ba88-4d24db222cc8",
      "metadata": {
        "id": "c00dae26-e073-45d0-ba88-4d24db222cc8"
      },
      "outputs": [],
      "source": [
        "# Step 1: Initialize the IBM Quantum Runtime service\n",
        "service = QiskitRuntimeService()  # Uses saved account credentials\n",
        "\n",
        "# Step 2: Specify the backend (ibm_brisbane)\n",
        "backend = service.backend(\"ibm_brisbane\")\n",
        "\n",
        "# Step 3: Configure the Transpiler WITHOUT AI\n",
        "transpiler_ai_false = TranspilerService(\n",
        "    backend=backend,\n",
        "    optimization_level=3,  # Highest optimization level\n",
        "    ai=False,             # Explicitly disable AI optimizations\n",
        "    seed_transpiler=42    # Optional: For reproducibility\n",
        ")\n"
      ]
    },
    {
      "cell_type": "code",
      "execution_count": null,
      "id": "47949823-1053-43d7-8139-57784c763034",
      "metadata": {
        "id": "47949823-1053-43d7-8139-57784c763034"
      },
      "outputs": [],
      "source": [
        "# Submit your answer using following code\n",
        "\n",
        "grade_lab3_ait_ex1(transpiler_ai_false) # Expected result type: TranspilerService"
      ]
    },
    {
      "cell_type": "code",
      "execution_count": null,
      "id": "4b63cdca-a872-406f-bab0-08965eaacbd0",
      "metadata": {
        "scrolled": true,
        "id": "4b63cdca-a872-406f-bab0-08965eaacbd0"
      },
      "outputs": [],
      "source": [
        "circuit_ai_false = transpiler_ai_false.run(circuit)"
      ]
    },
    {
      "cell_type": "markdown",
      "id": "d8698617",
      "metadata": {
        "id": "d8698617"
      },
      "source": [
        "<div class=\"alert alert-block alert-warning\">\n",
        "\n",
        "If you received an error `FileNotFoundError: [Errno 2] No such file or directory: ‘/root/.qiskit/qiskit-ibm.json’` or `TranspilerError: 'Service error: 403 Client Error: Forbidden for url`, please try:\n",
        "\n",
        "<pre><code>\n",
        "QiskitRuntimeService.save_account(\n",
        "    channel=\"ibm_quantum\",\n",
        "    token=\"<MY_IBM_QUANTUM_TOKEN>\",\n",
        "    set_as_default=True,\n",
        "    # Use `overwrite=True` if you're updating your token.\n",
        "    overwrite=True,\n",
        ")\n",
        "\n",
        "# Load saved credentials\n",
        "service = QiskitRuntimeService()\n",
        "\n",
        "</code></pre>\n",
        "\n",
        "Check [this documentation page](https://docs.quantum.ibm.com/start/setup-channel#set-up-to-use-ibm-quantum-platform) for more details about how to set up IBM Quantum token."
      ]
    },
    {
      "cell_type": "code",
      "execution_count": null,
      "id": "358aa7f2-3b15-47eb-a869-185751aa44de",
      "metadata": {
        "scrolled": true,
        "id": "358aa7f2-3b15-47eb-a869-185751aa44de"
      },
      "outputs": [],
      "source": [
        "print(f\"Transpiled without AI -> Depth: {circuit_ai_false.depth()}, CNOTs: {circuit_ai_false.num_nonlocal_gates()}\")\n",
        "circuit_ai_false.draw(fold=-1, output=\"mpl\", scale=0.2)"
      ]
    },
    {
      "cell_type": "markdown",
      "id": "fda47e18-4953-4d48-a726-260925dffa97",
      "metadata": {
        "id": "fda47e18-4953-4d48-a726-260925dffa97"
      },
      "source": [
        "#### Qiskit Transpiler Service - with AI\n",
        "Enable the AI-powered transpiler passes to see how they can potentially improve the optimization of your circuit."
      ]
    },
    {
      "cell_type": "markdown",
      "id": "41e2ff99-2cd5-4079-8c0c-9fd973f29d99",
      "metadata": {
        "id": "41e2ff99-2cd5-4079-8c0c-9fd973f29d99"
      },
      "source": [
        "<a id=\"exercise2\"></a>\n",
        "<div class=\"alert alert-block alert-success\">\n",
        "    \n",
        "<b> Exercise 2:</b>\n",
        "\n",
        "Let's now use the Qiskit Transpiler service with the AI flag turned `on`. Ensure your environment is set up with the latest version of the Qiskit Transpiler Service. We'll continue to use the `ibm_brisbane` backend. Configure the transpiler with an optimization level of `3` and enable the AI flag to leverage advanced AI-powered optimizations. This setup will try to transpile your quantum circuits by utilizing AI to optimize gate counts and circuit depth.\n",
        "</div>"
      ]
    },
    {
      "cell_type": "code",
      "execution_count": null,
      "id": "6cedf51d-4391-4ef7-8c8a-8f14fdb72e45",
      "metadata": {
        "scrolled": true,
        "id": "6cedf51d-4391-4ef7-8c8a-8f14fdb72e45"
      },
      "outputs": [],
      "source": [
        "transpiler_ai_true = TranspilerService(\n",
        "    # Add your code here\n",
        "     backend=backend,\n",
        "    optimization_level=3,  # Highest optimization level\n",
        "    ai=True,              # Enable AI-powered optimizations\n",
        ")"
      ]
    },
    {
      "cell_type": "code",
      "execution_count": null,
      "id": "0a9b1623-b617-415d-b112-6d209eae4574",
      "metadata": {
        "id": "0a9b1623-b617-415d-b112-6d209eae4574"
      },
      "outputs": [],
      "source": [
        "# Submit your answer using following code\n",
        "\n",
        "grade_lab3_ait_ex2(transpiler_ai_true) # Expected result type: TranspilerService"
      ]
    },
    {
      "cell_type": "code",
      "execution_count": null,
      "id": "4c14843e-e056-4580-820e-1dbd75ea3152",
      "metadata": {
        "scrolled": true,
        "id": "4c14843e-e056-4580-820e-1dbd75ea3152"
      },
      "outputs": [],
      "source": [
        "circuit_ai_true = transpiler_ai_true.run(circuit)"
      ]
    },
    {
      "cell_type": "code",
      "execution_count": null,
      "id": "e04470d2-d901-4757-bbdc-bce4703b1406",
      "metadata": {
        "scrolled": true,
        "id": "e04470d2-d901-4757-bbdc-bce4703b1406"
      },
      "outputs": [],
      "source": [
        "print(f\"Transpiled with AI -> Depth: {circuit_ai_true.depth()}, CNOTs: {circuit_ai_true.num_nonlocal_gates()}\")\n",
        "circuit_ai_true.draw(fold=-1, output=\"mpl\", scale=0.2)"
      ]
    },
    {
      "cell_type": "markdown",
      "id": "91e2aa6f-fa83-4496-b709-b5a9b9893b49",
      "metadata": {
        "id": "91e2aa6f-fa83-4496-b709-b5a9b9893b49"
      },
      "source": [
        "## Step 3: Plotting the graph\n",
        "Visualize the results of your transpilation and optimization efforts. Plot graphs to compare the performance metrics (e.g., depth, gate count) of the circuits transpiled with and without AI. This will help you understand the impact of AI-powered transpiler passes on your quantum circuit."
      ]
    },
    {
      "cell_type": "code",
      "execution_count": 31,
      "id": "03164f5b",
      "metadata": {
        "id": "03164f5b"
      },
      "outputs": [],
      "source": [
        "# Transpiling locally using Qiskit SDK\n",
        "service = QiskitRuntimeService()\n",
        "backend = service.backend(\"ibm_sherbrooke\")\n",
        "pm = generate_preset_pass_manager(backend=backend, optimization_level=3)"
      ]
    },
    {
      "cell_type": "code",
      "execution_count": null,
      "id": "42d031ed-ba31-4b6e-8bc4-bdb2257898fd",
      "metadata": {
        "scrolled": true,
        "id": "42d031ed-ba31-4b6e-8bc4-bdb2257898fd"
      },
      "outputs": [],
      "source": [
        "# Run and compile results\n",
        "num_qubits = [11, 21, 41, 61, 81]\n",
        "num_cnots_local = []\n",
        "num_cnots_with_ai = []\n",
        "num_cnots_without_ai = []\n",
        "\n",
        "for nq in num_qubits:\n",
        "    circuit = EfficientSU2(nq, entanglement=\"circular\", reps=1).decompose()\n",
        "\n",
        "    # Using the Transpiler locally on Qiskit\n",
        "    circuit_local = pm.run(circuit)\n",
        "    # Using the transpiler service without AI\n",
        "    circuit_without_ai = transpiler_ai_false.run(circuit)\n",
        "    # Using the transpiler service with AI\n",
        "    circuit_with_ai = transpiler_ai_true.run(circuit)\n",
        "\n",
        "    num_cnots_local.append(circuit_local.num_nonlocal_gates())\n",
        "    num_cnots_without_ai.append(circuit_without_ai.num_nonlocal_gates())\n",
        "    num_cnots_with_ai.append(circuit_with_ai.num_nonlocal_gates())"
      ]
    },
    {
      "cell_type": "code",
      "execution_count": null,
      "id": "20505da5-f19d-490b-a3ae-2d00450b2a07",
      "metadata": {
        "scrolled": true,
        "id": "20505da5-f19d-490b-a3ae-2d00450b2a07"
      },
      "outputs": [],
      "source": [
        "plt.plot(num_qubits, num_cnots_with_ai, '.-')\n",
        "plt.plot(num_qubits, num_cnots_without_ai, '.-')\n",
        "plt.plot(num_qubits, num_cnots_local, '--')\n",
        "plt.xlabel(\"Number of qubits\")\n",
        "plt.ylabel(\"CNOT count\")\n",
        "plt.legend([\"Qiskit Transpiler Service with AI\", \"Qiskit Transpiler Service without AI\", \"Qiskit SDK\"])"
      ]
    },
    {
      "cell_type": "markdown",
      "source": [
        "# Assignment 5.2"
      ],
      "metadata": {
        "id": "5P695xMLh7KU"
      },
      "id": "5P695xMLh7KU"
    },
    {
      "cell_type": "markdown",
      "id": "5cce599f-0073-498d-82b4-a27fc2078ab1",
      "metadata": {
        "id": "5cce599f-0073-498d-82b4-a27fc2078ab1"
      },
      "source": [
        "\n",
        "Now that you have experienced what the AI transpiler can do, try experimenting with various high-depth and high-width circuits using the Qiskit Transpiler Service!\n",
        "\n",
        "Check out AI-powered transpiler passes that work as a drop-in replacement of \"traditional\" Qiskit passes that you learned in Lab 2 (Or assignment 4) for some transpiling tasks. You can find more about this [here](https://docs.quantum.ibm.com/transpile/ai-transpiler-passes).\n",
        "\n",
        "Explore the most interesting improvements in gate depths and CNOT counts and provide your results\n",
        "</div>"
      ]
    },
    {
      "cell_type": "markdown",
      "id": "2dfa65c3-755d-4272-924f-7154c162b054",
      "metadata": {
        "id": "2dfa65c3-755d-4272-924f-7154c162b054"
      },
      "source": [
        "# Additional information\n",
        "\n",
        "**Created by:** Vishal Sharathchandra Bajpe, David Kremer\n",
        "\n",
        "**Advised by:** Junye Huang, Juan Cruz Benito\n",
        "\n",
        "**Version:** 1.4.2"
      ]
    },
    {
      "cell_type": "code",
      "source": [
        "from qiskit import QuantumCircuit, transpile\n",
        "from qiskit.transpiler import TranspilerService\n",
        "from qiskit.visualization import plot_histogram\n",
        "import matplotlib.pyplot as plt\n",
        "\n",
        "# Initialize transpilers\n",
        "transpiler_trad = TranspilerService(backend, optimization_level=3, ai=False)\n",
        "transpiler_ai = TranspilerService(backend, optimization_level=3, ai=True)\n",
        "\n",
        "def benchmark(circuit):\n",
        "    # Transpile both ways\n",
        "    trad = transpiler_trad.run(circuit)\n",
        "    ai = transpiler_ai.run(circuit)\n",
        "\n",
        "    # Collect metrics\n",
        "    metrics = {\n",
        "        'Original': {'depth': circuit.depth(), 'cnots': circuit.count_ops().get('cx', 0)},\n",
        "        'Traditional': {'depth': trad.depth(), 'cnots': trad.count_ops().get('cx', 0)},\n",
        "        'AI': {'depth': ai.depth(), 'cnots': ai.count_ops().get('cx', 0)}\n",
        "    }\n",
        "    return metrics\n",
        "\n",
        "# Example: QAOA Circuit\n",
        "qaoa_circ = QuantumCircuit(4)\n",
        "# ... [Add QAOA operations] ...\n",
        "qaoa_results = benchmark(qaoa_circ)"
      ],
      "metadata": {
        "id": "ZXoRia9p2JqG"
      },
      "id": "ZXoRia9p2JqG",
      "execution_count": null,
      "outputs": []
    },
    {
      "cell_type": "code",
      "source": [
        "import pandas as pd\n",
        "\n",
        "results = {\n",
        "    'QAOA': qaoa_results,\n",
        "    'Quantum Volume': qv_results,\n",
        "    'ALU': alu_results\n",
        "}\n",
        "\n",
        "df = pd.DataFrame.from_dict({\n",
        "    (circuit, metric): results[circuit][version][metric]\n",
        "    for circuit in results\n",
        "    for version in ['Traditional', 'AI']\n",
        "    for metric in ['depth', 'cnots']\n",
        "}, orient='index')\n",
        "\n",
        "print(df.sort_index())"
      ],
      "metadata": {
        "collapsed": true,
        "id": "hc0cs4qq2OBU"
      },
      "id": "hc0cs4qq2OBU",
      "execution_count": null,
      "outputs": []
    },
    {
      "cell_type": "code",
      "source": [
        "# Plotting function\n",
        "def plot_improvement(metrics):\n",
        "    fig, (ax1, ax2) = plt.subplots(1, 2, figsize=(12,4))\n",
        "\n",
        "    # Depth comparison\n",
        "    pd.DataFrame(metrics).loc['depth'].plot.bar(ax=ax1, color=['#1f77b4', '#ff7f0e'])\n",
        "    ax1.set_title('Circuit Depth Reduction')\n",
        "\n",
        "    # CNOT comparison\n",
        "    pd.DataFrame(metrics).loc['cnots'].plot.bar(ax=ax2, color=['#1f77b4', '#ff7f0e'])\n",
        "    ax2.set_title('CNOT Count Reduction')\n",
        "\n",
        "    plt.tight_layout()\n",
        "    plt.show()\n",
        "\n",
        "plot_improvement(qaoa_results)"
      ],
      "metadata": {
        "collapsed": true,
        "id": "xOrXZqnu2Uqs"
      },
      "id": "xOrXZqnu2Uqs",
      "execution_count": null,
      "outputs": []
    },
    {
      "cell_type": "code",
      "source": [
        "from qiskit.visualization import circuit_drawer\n",
        "\n",
        "# Display critical sections\n",
        "print(\"Traditional Transpilation:\")\n",
        "circuit_drawer(trad.decompose().copy(), output='mpl', scale=0.7)\n",
        "\n",
        "print(\"\\nAI-Optimized Version:\")\n",
        "circuit_drawer(ai.decompose().copy(), output='mpl', scale=0.7)"
      ],
      "metadata": {
        "collapsed": true,
        "id": "JyyIL24O2Xxr"
      },
      "id": "JyyIL24O2Xxr",
      "execution_count": null,
      "outputs": []
    }
  ],
  "metadata": {
    "kernelspec": {
      "display_name": "Python 3 (ipykernel)",
      "language": "python",
      "name": "python3"
    },
    "language_info": {
      "codemirror_mode": {
        "name": "ipython",
        "version": 3
      },
      "file_extension": ".py",
      "mimetype": "text/x-python",
      "name": "python",
      "nbconvert_exporter": "python",
      "pygments_lexer": "ipython3",
      "version": "3.11.0"
    },
    "colab": {
      "provenance": []
    }
  },
  "nbformat": 4,
  "nbformat_minor": 5
}