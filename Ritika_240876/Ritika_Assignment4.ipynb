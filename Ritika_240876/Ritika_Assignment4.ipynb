{
 "cells": [
  {
   "cell_type": "code",
   "execution_count": 11,
   "id": "721a9025-d48b-4fef-9c3e-67957e482d9a",
   "metadata": {},
   "outputs": [],
   "source": [
    "from qiskit import QuantumCircuit\n",
    "from qiskit_aer import AerSimulator\n",
    "from qiskit.quantum_info import Statevector\n",
    "import numpy as np\n",
    "\n",
    "def compute_observables(t_max=5, dt=0.1, trotter_steps=10):\n",
    "    \"\"\"Compute expectation values and correlations over time\"\"\"\n",
    "    times = np.arange(0, t_max, dt)\n",
    "    z_vals = []\n",
    "    correlations = []\n",
    "    \n",
    "    ideal_simulator = AerSimulator()\n",
    "    \n",
    "    for t in times:\n",
    "        # Compute <Z(t)>\n",
    "        qc_z = QuantumCircuit(1)\n",
    "        qc_z.h(0)\n",
    "        # Time evolution would go here\n",
    "        qc_z.measure_all()\n",
    "        job = ideal_simulator.run(qc_z, shots=1000)\n",
    "        z_vals.append(job.result().get_counts().get('0', 0)/1000)\n",
    "        \n",
    "        # Compute <Z(t)Z(0)> correlation\n",
    "        qc_corr = dynamical_correlation(t, trotter_steps)\n",
    "        job = ideal_simulator.run(qc_corr, shots=1000)\n",
    "        counts = job.result().get_counts()\n",
    "        correlations.append((counts.get('00', 0) - counts.get('01', 0) \n",
    "                           - counts.get('10', 0) + counts.get('11', 0))/1000)\n",
    "    \n",
    "    return times, z_vals, correlations\n",
    "\n",
    "# Run the computation\n",
    "times, z_vals, correlations = compute_observables()"
   ]
  },
  {
   "cell_type": "code",
   "execution_count": 12,
   "id": "3793ff7c-aa82-4aaf-9b51-309bc7116028",
   "metadata": {},
   "outputs": [],
   "source": [
    "from qiskit_aer.noise import NoiseModel, depolarizing_error, thermal_relaxation_error\n",
    "\n",
    "def analyze_noise_impact(t_max=5, dt=0.1, trotter_steps=10):\n",
    "    \"\"\"Study fidelity degradation with noise over time\"\"\"\n",
    "    # Create noise model\n",
    "    noise_model = NoiseModel()\n",
    "    error_gate1 = depolarizing_error(0.01, 1)\n",
    "    error_gate2 = depolarizing_error(0.05, 2)\n",
    "    noise_model.add_all_qubit_quantum_error(error_gate1, ['h', 'rz'])\n",
    "    noise_model.add_all_qubit_quantum_error(error_gate2, ['rzz'])\n",
    "    \n",
    "    noisy_simulator = AerSimulator(noise_model=noise_model)\n",
    "    ideal_simulator = AerSimulator()\n",
    "    \n",
    "    fidelities = []\n",
    "    for t in np.arange(0, t_max, dt):\n",
    "        qc = dynamical_correlation(t, trotter_steps)\n",
    "        \n",
    "        # Get ideal state\n",
    "        ideal_result = ideal_simulator.run(qc).result()\n",
    "        ideal_counts = ideal_result.get_counts()\n",
    "        \n",
    "        # Get noisy state\n",
    "        noisy_result = noisy_simulator.run(qc, shots=1000).result()\n",
    "        noisy_counts = noisy_result.get_counts()\n",
    "        \n",
    "        # Compute fidelity (simplified version)\n",
    "        fid = 0\n",
    "        for key in ideal_counts:\n",
    "            fid += np.sqrt(ideal_counts[key]/1000 * noisy_counts.get(key, 0)/1000)\n",
    "        fidelities.append(fid)\n",
    "    \n",
    "    return np.arange(0, t_max, dt), fidelities\n",
    "\n",
    "# Run noise analysis\n",
    "times, fidelities = analyze_noise_impact()"
   ]
  },
  {
   "cell_type": "code",
   "execution_count": 14,
   "id": "5e3ad9db-215b-4a04-805b-f03f4fd7ee5b",
   "metadata": {},
   "outputs": [
    {
     "name": "stdout",
     "output_type": "stream",
     "text": [
      "Trotter error (TVD): 0.0036\n",
      "Hardware error (TVD): 0.4524\n"
     ]
    },
    {
     "data": {
      "image/png": "[encoded data removed]",
      "text/plain": [
       "<Figure size 640x480 with 1 Axes>"
      ]
     },
     "metadata": {},
     "output_type": "display_data"
    }
   ],
   "source": [
    "from qiskit_aer.noise import NoiseModel, depolarizing_error\n",
    "import matplotlib.pyplot as plt\n",
    "\n",
    "def error_analysis():\n",
    "    \"\"\"Compare Trotter vs hardware errors\"\"\"\n",
    "    # Ideal simulation (no noise, fine Trotter steps)\n",
    "    ideal_simulator = AerSimulator()\n",
    "    qc_ideal = dynamical_correlation(2.0, 100)  # Fine Trotter steps\n",
    "    ideal_counts = ideal_simulator.run(qc_ideal, shots=10000).result().get_counts()\n",
    "    \n",
    "    # Trotter error (no noise, coarse steps)\n",
    "    qc_trotter = dynamical_correlation(2.0, 5)  # Coarse Trotter steps\n",
    "    trotter_counts = ideal_simulator.run(qc_trotter, shots=10000).result().get_counts()\n",
    "    \n",
    "    # Hardware error (noise, fine steps)\n",
    "    noise_model = NoiseModel()\n",
    "    # 1-qubit errors\n",
    "    error_1q = depolarizing_error(0.01, 1)\n",
    "    noise_model.add_all_qubit_quantum_error(error_1q, ['h', 'rz'])\n",
    "    # 2-qubit errors\n",
    "    error_2q = depolarizing_error(0.05, 2)\n",
    "    noise_model.add_all_qubit_quantum_error(error_2q, ['rzz'])\n",
    "    \n",
    "    noisy_simulator = AerSimulator(noise_model=noise_model)\n",
    "    noisy_counts = noisy_simulator.run(qc_ideal, shots=10000).result().get_counts()\n",
    "    \n",
    "    # Compute TVD (total variation distance) from ideal\n",
    "    def tvd(counts1, counts2):\n",
    "        keys = set(counts1).union(set(counts2))\n",
    "        return 0.5*sum(abs(counts1.get(k,0)/10000 - counts2.get(k,0)/10000) for k in keys)\n",
    "    \n",
    "    trotter_error = tvd(ideal_counts, trotter_counts)\n",
    "    hardware_error = tvd(ideal_counts, noisy_counts)\n",
    "    \n",
    "    print(f\"Trotter error (TVD): {trotter_error:.4f}\")\n",
    "    print(f\"Hardware error (TVD): {hardware_error:.4f}\")\n",
    "    \n",
    "    # Plot results\n",
    "    plt.bar(['Trotter Error', 'Hardware Error'], [trotter_error, hardware_error])\n",
    "    plt.ylabel('Total Variation Distance from Ideal')\n",
    "    plt.title('Error Comparison')\n",
    "    plt.show()\n",
    "\n",
    "error_analysis()"
   ]
  },
  {
   "cell_type": "code",
   "execution_count": null,
   "id": "5e49d6cd-4763-4a25-bf97-94223060f4b9",
   "metadata": {},
   "outputs": [],
   "source": []
  }
 ],
 "metadata": {
  "kernelspec": {
   "display_name": "Python (Qiskit Clean)",
   "language": "python",
   "name": "qiskit-env"
  },
  "language_info": {
   "codemirror_mode": {
    "name": "ipython",
    "version": 3
   },
   "file_extension": ".py",
   "mimetype": "text/x-python",
   "name": "python",
   "nbconvert_exporter": "python",
   "pygments_lexer": "ipython3",
   "version": "3.13.3"
  }
 },
 "nbformat": 4,
 "nbformat_minor": 5
}
