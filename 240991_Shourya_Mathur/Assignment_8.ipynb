{
  "nbformat": 4,
  "nbformat_minor": 0,
  "metadata": {
    "colab": {
      "provenance": []
    },
    "kernelspec": {
      "name": "python3",
      "display_name": "Python 3"
    },
    "language_info": {
      "name": "python"
    }
  },
  "cells": [
    {
      "cell_type": "code",
      "execution_count": 1,
      "metadata": {
        "id": "_qaqmkEbXJOo",
        "colab": {
          "base_uri": "https://localhost:8080/",
          "height": 0
        },
        "outputId": "71c31da9-2b59-41b5-f8a6-4681f541bf86"
      },
      "outputs": [
        {
          "output_type": "stream",
          "name": "stdout",
          "text": [
            "\u001b[2K   \u001b[90m━━━━━━━━━━━━━━━━━━━━━━━━━━━━━━━━━━━━━━━━\u001b[0m \u001b[32m7.5/7.5 MB\u001b[0m \u001b[31m38.6 MB/s\u001b[0m eta \u001b[36m0:00:00\u001b[0m\n",
            "\u001b[2K   \u001b[90m━━━━━━━━━━━━━━━━━━━━━━━━━━━━━━━━━━━━━━━━\u001b[0m \u001b[32m2.1/2.1 MB\u001b[0m \u001b[31m79.4 MB/s\u001b[0m eta \u001b[36m0:00:00\u001b[0m\n",
            "\u001b[2K   \u001b[90m━━━━━━━━━━━━━━━━━━━━━━━━━━━━━━━━━━━━━━━━\u001b[0m \u001b[32m49.5/49.5 kB\u001b[0m \u001b[31m3.8 MB/s\u001b[0m eta \u001b[36m0:00:00\u001b[0m\n",
            "\u001b[2K   \u001b[90m━━━━━━━━━━━━━━━━━━━━━━━━━━━━━━━━━━━━━━━━\u001b[0m \u001b[32m109.0/109.0 kB\u001b[0m \u001b[31m10.7 MB/s\u001b[0m eta \u001b[36m0:00:00\u001b[0m\n",
            "\u001b[2K   \u001b[90m━━━━━━━━━━━━━━━━━━━━━━━━━━━━━━━━━━━━━━━━\u001b[0m \u001b[32m12.4/12.4 MB\u001b[0m \u001b[31m86.1 MB/s\u001b[0m eta \u001b[36m0:00:00\u001b[0m\n",
            "\u001b[2K     \u001b[90m━━━━━━━━━━━━━━━━━━━━━━━━━━━━━━━━━━━━━━━\u001b[0m \u001b[32m162.6/162.6 kB\u001b[0m \u001b[31m3.0 MB/s\u001b[0m eta \u001b[36m0:00:00\u001b[0m\n",
            "\u001b[?25h  Preparing metadata (setup.py) ... \u001b[?25l\u001b[?25hdone\n",
            "  Building wheel for pylatexenc (setup.py) ... \u001b[?25l\u001b[?25hdone\n"
          ]
        }
      ],
      "source": [
        "!pip install -q qiskit\n",
        "!pip install -q qiskit-aer\n",
        "!pip install -q pylatexenc"
      ]
    },
    {
      "cell_type": "code",
      "source": [
        "from qiskit import QuantumCircuit\n",
        "from qiskit_aer import AerSimulator\n",
        "import numpy as np\n",
        "import matplotlib.pyplot as plt\n",
        "from qiskit.visualization import plot_histogram\n",
        "import random"
      ],
      "metadata": {
        "id": "OAGU7G1eYgki"
      },
      "execution_count": 2,
      "outputs": []
    },
    {
      "cell_type": "code",
      "source": [
        "from qiskit import QuantumCircuit\n",
        "from qiskit.visualization import plot_histogram\n",
        "import random\n",
        "\n",
        "n = 2  #showing for n=2 qubits\n",
        "qc = QuantumCircuit(n, n)\n",
        "\n",
        "#applying initial hadamard gates\n",
        "for i in range(n):\n",
        "  qc.h(i)\n",
        "\n",
        "#choosing a random integer to be marked as the target\n",
        "target = random.randint(0, 2**n - 1)\n",
        "bitstring = format(target, f'0{n}b')\n",
        "print(f\"Marked state: |{bitstring}⟩\")\n",
        "\n",
        "for x in range(20):\n",
        "  #converting target gate to |11...1)\n",
        "  for i, bit in enumerate(reversed(bitstring)):\n",
        "      if bit == '0':\n",
        "          qc.x(i)\n",
        "\n",
        "  #applying c-z gate to mark that gate\n",
        "  qc.h(n - 1)\n",
        "  qc.cx(0,1)\n",
        "  qc.h(n - 1)\n",
        "\n",
        "  #undoing the x-gates\n",
        "  for i, bit in enumerate(reversed(bitstring)):\n",
        "      if bit == '0':\n",
        "          qc.x(i)\n",
        "\n",
        "  #applying the diffusion operator\n",
        "  qc.h(range(n))\n",
        "  qc.x(range(n))\n",
        "\n",
        "  #applying multi-controlled Z to |00...0⟩\n",
        "  qc.h(n - 1)\n",
        "  qc.cx(0,1)\n",
        "  qc.h(n - 1)\n",
        "\n",
        "  #Undo X and H\n",
        "  qc.x(range(n))\n",
        "  qc.h(range(n))\n",
        "\n",
        "#measurement\n",
        "qc.measure(range(n), range(n))\n",
        "\n",
        "sim = AerSimulator()\n",
        "result = sim.run(qc).result()\n",
        "counts = result.get_counts()\n",
        "\n",
        "#plotting the result\n",
        "plot_histogram(counts)"
      ],
      "metadata": {
        "colab": {
          "base_uri": "https://localhost:8080/",
          "height": 504
        },
        "id": "fZZDghFagU5o",
        "outputId": "acfae3e2-9d83-4e2b-905a-d9992374cc5f"
      },
      "execution_count": 12,
      "outputs": [
        {
          "output_type": "stream",
          "name": "stdout",
          "text": [
            "Marked state: |11⟩\n"
          ]
        },
        {
          "output_type": "execute_result",
          "data": {
            "text/plain": [
              "<Figure size 640x480 with 1 Axes>"
            ],
            "image/png": "[encoded data removed]"
          },
          "metadata": {},
          "execution_count": 12
        }
      ]
    }
  ]
}