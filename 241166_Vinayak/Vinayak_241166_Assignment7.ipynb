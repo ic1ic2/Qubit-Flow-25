{
 "cells": [
  {
   "cell_type": "code",
   "execution_count": 4,
   "id": "daf4324d",
   "metadata": {},
   "outputs": [],
   "source": [
    "from qiskit import QuantumCircuit, transpile\n",
    "from qiskit_aer import AerSimulator\n",
    "from qiskit.visualization import plot_histogram\n",
    "import numpy as np\n"
   ]
  },
  {
   "cell_type": "code",
   "execution_count": 5,
   "id": "b284cf9e",
   "metadata": {},
   "outputs": [
    {
     "name": "stdout",
     "output_type": "stream",
     "text": [
      "Constant Oracle Result:\n",
      "{'000': 1024}\n"
     ]
    }
   ],
   "source": [
    "n = 3  \n",
    "\n",
    "qc_const = QuantumCircuit(n + 1, n)\n",
    "qc_const.x(n)       \n",
    "qc_const.h(n)      \n",
    "qc_const.h([0, 1, 2]) \n",
    "qc_const.h([0, 1, 2]) \n",
    "qc_const.measure([0, 1, 2], [0, 1, 2])\n",
    "\n",
    "sim = AerSimulator()\n",
    "tqc_const = transpile(qc_const, sim)\n",
    "job_const = sim.run(tqc_const, shots=1024)\n",
    "result_const = job_const.result()\n",
    "counts_const = result_const.get_counts()\n",
    "\n",
    "print(\"Constant Oracle Result:\")\n",
    "print(counts_const)"
   ]
  },
  {
   "cell_type": "code",
   "execution_count": 6,
   "id": "08d70b97",
   "metadata": {},
   "outputs": [
    {
     "name": "stdout",
     "output_type": "stream",
     "text": [
      "Balanced Oracle Result:\n",
      "{'001': 1024}\n"
     ]
    }
   ],
   "source": [
    "qc_bal = QuantumCircuit(n + 1, n)\n",
    "qc_bal.x(n)        \n",
    "qc_bal.h(n)        \n",
    "qc_bal.h([0, 1, 2]) \n",
    "qc_bal.cx(0, n)\n",
    "\n",
    "qc_bal.h([0, 1, 2]) \n",
    "qc_bal.measure([0, 1, 2], [0, 1, 2])\n",
    "\n",
    "# Transpile and simulate\n",
    "tqc_bal = transpile(qc_bal, sim)\n",
    "job_bal = sim.run(tqc_bal, shots=1024)\n",
    "result_bal = job_bal.result()\n",
    "counts_bal = result_bal.get_counts()\n",
    "\n",
    "print(\"Balanced Oracle Result:\")\n",
    "print(counts_bal)"
   ]
  }
 ],
 "metadata": {
  "kernelspec": {
   "display_name": "Python 3",
   "language": "python",
   "name": "python3"
  },
  "language_info": {
   "codemirror_mode": {
    "name": "ipython",
    "version": 3
   },
   "file_extension": ".py",
   "mimetype": "text/x-python",
   "name": "python",
   "nbconvert_exporter": "python",
   "pygments_lexer": "ipython3",
   "version": "3.12.4"
  }
 },
 "nbformat": 4,
 "nbformat_minor": 5
}
