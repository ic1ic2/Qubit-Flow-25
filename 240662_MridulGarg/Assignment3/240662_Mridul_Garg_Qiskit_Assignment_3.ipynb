{
  "nbformat": 4,
  "nbformat_minor": 0,
  "metadata": {
    "colab": {
      "provenance": []
    },
    "kernelspec": {
      "name": "python3",
      "display_name": "Python 3"
    },
    "language_info": {
      "name": "python"
    }
  },
  "cells": [
    {
      "cell_type": "code",
      "execution_count": 3,
      "metadata": {
        "id": "r7GXu7qwZu06"
      },
      "outputs": [],
      "source": [
        "### Install Qiskit and relevant packages, if needed\n",
        "\n",
        "%pip install qiskit[visualization]==1.0.2\n",
        "%pip install qiskit_ibm_runtime\n",
        "%pip install qiskit_aer\n",
        "%pip install qiskit-transpiler-service\n",
        "%pip install graphviz\n",
        "%pip install git+https://github.com/qiskit-community/Quantum-Challenge-Grader.git\n"
      ]
    },
    {
      "cell_type": "code",
      "source": [
        "### Save API Token, if needed\n",
        "\n",
        "%set_env QXToken=deleteThisAndPasteYourTokenHere\n",
        "\n",
        "# Make sure there is no space between the equal sign\n",
        "# and the beginning of your token\n"
      ],
      "metadata": {
        "id": "lPzubE69Z8r7"
      },
      "execution_count": null,
      "outputs": []
    },
    {
      "cell_type": "code",
      "source": [
        "# Imports\n",
        "\n",
        "from qiskit.circuit.random import random_circuit\n",
        "from qiskit.circuit.library import XGate, YGate\n",
        "from qiskit_ibm_runtime.fake_provider import FakeTorino, FakeOsaka\n",
        "from qiskit_ibm_runtime import QiskitRuntimeService, SamplerV2 as Sampler\n",
        "from qiskit.transpiler import InstructionProperties, PassManager\n",
        "from qiskit.transpiler.preset_passmanagers import generate_preset_pass_manager\n",
        "from qiskit.transpiler.preset_passmanagers.plugin import list_stage_plugins\n",
        "from qiskit.transpiler.timing_constraints import TimingConstraints\n",
        "from qiskit.transpiler.passes.scheduling import ASAPScheduleAnalysis,PadDynamicalDecoupling\n",
        "from qiskit.visualization.timeline import draw, IQXStandard\n",
        "from qiskit.transpiler import StagedPassManager\n",
        "from qiskit.visualization import plot_circuit_layout\n",
        "from qiskit.quantum_info.analysis import hellinger_fidelity\n",
        "from qiskit.visualization import plot_distribution\n",
        "from qiskit_aer import AerSimulator\n",
        "\n",
        "\n",
        "import matplotlib.pyplot as plt\n",
        "import numpy as np"
      ],
      "metadata": {
        "id": "ZhGTWnbTaUxu"
      },
      "execution_count": 3,
      "outputs": []
    },
    {
      "cell_type": "code",
      "source": [
        "# Setup the grader\n",
        "from qc_grader.challenges.iqc_2024 import (\n",
        "    grade_lab2_ex1,\n",
        "    grade_lab2_ex2,\n",
        "    grade_lab2_ex3,\n",
        "    grade_lab2_ex4,\n",
        "    grade_lab2_ex5\n",
        ")"
      ],
      "metadata": {
        "id": "3FH8enPnaXQf"
      },
      "execution_count": null,
      "outputs": []
    },
    {
      "cell_type": "code",
      "source": [
        "from util import version_check\n",
        "\n",
        "version_check()"
      ],
      "metadata": {
        "id": "czT3itq3hgk_"
      },
      "execution_count": null,
      "outputs": []
    },
    {
      "cell_type": "code",
      "source": [
        "ans = {}\n",
        "ans[\"init\"] = \"C\"        # translates multi-qubit gates into single- and two-qubit gates\n",
        "ans[\"layout\"] = \"D\"      # maps \"virtual\" qubits to \"physical\" qubits\n",
        "ans[\"routing\"] = \"B\"     # inserts SWAP gates for selected layout\n",
        "ans[\"translation\"] = \"F\" # translates gates to native basis gates\n",
        "ans[\"optimization\"] = \"A\" # reduces circuit operations and depth\n",
        "ans[\"scheduling\"] = \"E\"   # inserts hardware-aware operations like delay instructions\n"
      ],
      "metadata": {
        "id": "T6qK1uXOhn4Y"
      },
      "execution_count": null,
      "outputs": []
    },
    {
      "cell_type": "code",
      "source": [
        "# Submit your answer using following code\n",
        "\n",
        "grade_lab2_ex1(ans)"
      ],
      "metadata": {
        "id": "pbgRFNm5hn1O"
      },
      "execution_count": null,
      "outputs": []
    },
    {
      "cell_type": "code",
      "source": [
        "def scoring(qc, backend):\n",
        "    from util import transpile_scoring\n",
        "\n",
        "    layout = qc.layout.final_layout  # Get the final layout from the transpiled circuit\n",
        "    fidelity = transpile_scoring(qc, layout, backend)\n",
        "    score = 1 - fidelity  # Calculate score from fidelity (closer to 0 = better)\n",
        "\n",
        "    return score\n"
      ],
      "metadata": {
        "id": "maNyMtQahnyQ"
      },
      "execution_count": null,
      "outputs": []
    },
    {
      "cell_type": "code",
      "source": [
        "# Submit your answer using following code\n",
        "\n",
        "grade_lab2_ex2(scoring)"
      ],
      "metadata": {
        "id": "lpZY-wZShnus"
      },
      "execution_count": null,
      "outputs": []
    },
    {
      "cell_type": "code",
      "source": [
        "### Create a random circuit\n",
        "\n",
        "## DO NOT CHANGE THE SEED NUMBER\n",
        "seed = 10000\n",
        "\n",
        "## Create circuit\n",
        "\n",
        "num_qubits = 6\n",
        "depth = 4\n",
        "qc = random_circuit(num_qubits,depth,measure=False, seed=seed)\n",
        "\n",
        "qc.draw('mpl')"
      ],
      "metadata": {
        "id": "gDi5Bq20hnrm"
      },
      "execution_count": null,
      "outputs": []
    },
    {
      "cell_type": "code",
      "source": [
        "## Save FakeTorino as backend\n",
        "\n",
        "backend = FakeTorino()"
      ],
      "metadata": {
        "id": "raRyObbuiZ4n"
      },
      "execution_count": null,
      "outputs": []
    },
    {
      "cell_type": "code",
      "source": [
        "circuit_depths = {\n",
        "    'opt_lv_0': None,\n",
        "    'opt_lv_1': None,\n",
        "    'opt_lv_2': None,\n",
        "    'opt_lv_3': None,\n",
        "}\n",
        "gate_counts = {\n",
        "    'opt_lv_0': None,\n",
        "    'opt_lv_1': None,\n",
        "    'opt_lv_2': None,\n",
        "    'opt_lv_3': None,\n",
        "}\n",
        "\n",
        "scores = {\n",
        "    'opt_lv_0': None,\n",
        "    'opt_lv_1': None,\n",
        "    'opt_lv_2': None,\n",
        "    'opt_lv_3': None,\n",
        "}"
      ],
      "metadata": {
        "id": "et03K8pZiZ1j"
      },
      "execution_count": null,
      "outputs": []
    },
    {
      "cell_type": "code",
      "source": [
        "# Make a pass manager with our desired optimization level and backend\n",
        "pm_lv0 = generate_preset_pass_manager(backend=backend, optimization_level=0, seed_transpiler=seed)\n",
        "\n",
        "# Run for our random circuit\n",
        "tr_lv0 = pm_lv0.run(qc)\n",
        "\n",
        "# uncomment the next line to draw circuit\n",
        "#tr_lv0.draw('mpl', idle_wires=False, fold=60)"
      ],
      "metadata": {
        "id": "ECZ29yO9iZyX"
      },
      "execution_count": null,
      "outputs": []
    },
    {
      "cell_type": "code",
      "source": [
        "### Your code here ###\n",
        "circuit_depths['opt_lv_0'] = tr_lv0.depth()\n",
        "gate_counts['opt_lv_0'] = tr_lv0.count_ops()\n",
        "scores['opt_lv_0'] = scoring(tr_lv0, backend\n",
        "\n",
        "### Don't change code after this line ###\n",
        "\n",
        "print(\"Optimization level 0 results\")\n",
        "print(\"====================\")\n",
        "print(\"Circuit depth:\", circuit_depths['opt_lv_0'])\n",
        "print(\"Gate count:\", gate_counts['opt_lv_0'])\n",
        "print(\"Score:\", scores['opt_lv_0'])"
      ],
      "metadata": {
        "id": "J55ttRjRivRg"
      },
      "execution_count": null,
      "outputs": []
    },
    {
      "cell_type": "code",
      "source": [
        "pm_lv1 = generate_preset_pass_manager(optimization_level=1, backend=backend, seed_transpiler=seed)\n",
        "\n",
        "\n",
        "# Run for our random circuit\n",
        "tr_lv1 = pm_lv1.run(qc)\n",
        "\n",
        "# uncomment the next line to draw circuit\n",
        "#tr_lv1.draw('mpl', idle_wires=False, fold=60)\n",
        "\n",
        "circuit_depths['opt_lv_1'] = tr_lv1.depth()\n",
        "gate_counts['opt_lv_1'] = tr_lv1.count_ops()\n",
        "scores['opt_lv_1'] = scoring(tr_lv1, backend)\n",
        "\n",
        "### Don't change code after this line ###\n",
        "\n",
        "print(\"Optimization level 1 results\")\n",
        "print(\"====================\")\n",
        "print(\"Circuit depth:\", circuit_depths['opt_lv_1'])\n",
        "print(\"Gate count:\", gate_counts['opt_lv_1'])\n",
        "print(\"Score:\", scores['opt_lv_1'])"
      ],
      "metadata": {
        "id": "v_xZMMohivOV"
      },
      "execution_count": 3,
      "outputs": []
    },
    {
      "cell_type": "code",
      "source": [
        "pm_lv2 = generate_preset_pass_manager(optimization_level=2, backend=backend, seed_transpiler=seed)\n",
        "\n",
        "circuit_depths['opt_lv_2'] = tr_lv2.depth()\n",
        "gate_counts['opt_lv_2'] = tr_lv2.count_ops()\n",
        "scores['opt_lv_2'] = scoring(tr_lv2, backend)\n",
        "### Don't change code after this line ###\n",
        "\n",
        "print(\"Optimization level 2 results\")\n",
        "print(\"====================\")\n",
        "print(\"Circuit depth:\", circuit_depths['opt_lv_2'])\n",
        "print(\"Gate count:\", gate_counts['opt_lv_2'])\n",
        "print(\"Score:\", scores['opt_lv_2'])"
      ],
      "metadata": {
        "id": "9LUh9h9zivK4"
      },
      "execution_count": 3,
      "outputs": []
    },
    {
      "cell_type": "code",
      "source": [
        "# Optimization Level 3\n",
        "pm_lv3 = generate_preset_pass_manager(optimization_level=3, backend=backend, seed_transpiler=seed)\n",
        "tr_lv3 = pm_lv3.run(qc)\n",
        "tr_lv3.draw('mpl', idle_wires=False, fold=60)\n",
        "circuit_depths['opt_lv_3'] = tr_lv3.depth()\n",
        "gate_counts['opt_lv_3'] = tr_lv3.count_ops()\n",
        "scores['opt_lv_3'] = scoring(tr_lv3, backend)\n",
        "\n",
        "print(\"Optimization level 3 results\")\n",
        "print(\"====================\")\n",
        "print(\"Circuit depth:\", circuit_depths['opt_lv_3'])\n",
        "print(\"Gate count:\", gate_counts['opt_lv_3'])\n",
        "print(\"Score:\", scores['opt_lv_3'])\n",
        "\n",
        "# Final submission for Exercise 3\n",
        "ans = [pm_lv0, pm_lv1, pm_lv2, pm_lv3]\n",
        "grade_lab2_ex3(ans)"
      ],
      "metadata": {
        "id": "lw5pj9MhivH0"
      },
      "execution_count": 3,
      "outputs": []
    },
    {
      "cell_type": "code",
      "source": [
        "colors = ['#FF6666', '#66B2FF']\n",
        "ax = [\"opt_lv_0\", \"opt_lv_1\", \"opt_lv_2\", \"opt_lv_3\"]\n",
        "fig, (ax1, ax2, ax3) = plt.subplots(3, 1, figsize=(10, 12))\n",
        "\n",
        "# Plot 1: Circuit Depth\n",
        "ax1.semilogy(ax, [circuit_depths[key] for key in ax],'o-',markersize=9, color='#FF6666', label=\"Depth\")\n",
        "ax1.set_xlabel(\"Optimization Level\", fontsize=12)\n",
        "ax1.set_ylabel(\"Depth\", fontsize=12)\n",
        "ax1.set_title(\"Circuit Depth\", fontsize=14)\n",
        "ax1.legend(fontsize=10)\n",
        "\n",
        "# Plot 2: Total Number of Gates\n",
        "ax2.semilogy(ax, [gate_counts[key] for key in ax],'^-',markersize=9, color='#66B2FF', label=\"Counts\")\n",
        "ax2.set_xlabel(\"Optimization Level\", fontsize=12)\n",
        "ax2.set_ylabel(\"Gate Count\", fontsize=12)\n",
        "ax2.set_title(\"Gate Count\", fontsize=14)\n",
        "ax2.legend(fontsize=10)\n",
        "\n",
        "# Plot 3: Score of Transpiled Circuit\n",
        "ax3.semilogy(ax, [scores[key] for key in ax],'*-',markersize=9, label=\"Score\")\n",
        "ax3.set_xlabel(\"Optimization Level\", fontsize=12)\n",
        "ax3.set_ylabel(\"Score\", fontsize=12)\n",
        "ax3.set_title(\"Score\", fontsize=14)\n",
        "ax3.legend(fontsize=10)\n",
        "\n",
        "fig.tight_layout()\n",
        "plt.show()"
      ],
      "metadata": {
        "id": "0d9bbTTBivEb"
      },
      "execution_count": null,
      "outputs": []
    },
    {
      "cell_type": "code",
      "source": [
        "# Submit your answer using following code\n",
        "\n",
        "ans = [pm_lv0, pm_lv1, pm_lv2, pm_lv3]\n",
        "\n",
        "grade_lab2_ex3(ans)"
      ],
      "metadata": {
        "id": "A7wv_rwHivBP"
      },
      "execution_count": null,
      "outputs": []
    },
    {
      "cell_type": "code",
      "source": [
        "list_stage_plugins(\"init\")\n",
        "\n",
        "print(\"Plugins run by default init stage\")\n",
        "print(\"=================================\")\n",
        "\n",
        "for i in range(4):\n",
        "    print(f\"\\nOptimization level {i}:\")\n",
        "    pm = generate_preset_pass_manager(backend=backend, optimization_level=i, init_method=\"default\", seed_transpiler=1000)\n",
        "    for task in pm.init.to_flow_controller().tasks:\n",
        "        print(\" -\", type(task).__name__)\n",
        "\n",
        "list_stage_plugins(\"layout\")"
      ],
      "metadata": {
        "id": "0LSs4A6viu-F"
      },
      "execution_count": null,
      "outputs": []
    },
    {
      "cell_type": "code",
      "source": [
        "print(\"Plugins run by default layout stage\")\n",
        "print(\"=================================\")\n",
        "for i in range(4):\n",
        "    print(f\"\\nOptimization level {i}:\")\n",
        "    pm = generate_preset_pass_manager(backend=backend, optimization_level=i, layout_method='default', seed_transpiler=seed)\n",
        "    qc_tr = pm.run(qc)\n",
        "\n",
        "    for controller_group in pm.layout.to_flow_controller().tasks:\n",
        "        tasks = getattr(controller_group, \"tasks\", [])\n",
        "        for task in tasks:\n",
        "            print(\" - \" , str(type(task).__name__))\n",
        "    print(qc_tr.layout.final_index_layout())\n",
        "    display(plot_circuit_layout(pm.run(qc), backend))\n",
        "\n",
        "for option in list_stage_plugins(\"layout\"):\n",
        "    pm = generate_preset_pass_manager(backend=backend, optimization_level=3, layout_method=option, seed_transpiler=seed)\n",
        "    qc_tr = pm.run(qc)\n",
        "    score = scoring(qc_tr, backend)\n",
        "\n",
        "    print(f\"Layout method = {option}\")\n",
        "    print(f\"Score: {score:.6f}\")\n",
        "    print(f\"Layout: {qc_tr.layout.final_index_layout()}\\n\")"
      ],
      "metadata": {
        "id": "fyQUckW1iu6v"
      },
      "execution_count": null,
      "outputs": []
    },
    {
      "cell_type": "code",
      "source": [
        "list_stage_plugins(\"routing\")\n",
        "\n",
        "print(\"Number of each gates of transpiled circuit and the score\")\n",
        "print(\"=================================\")\n",
        "for i in range(4):\n",
        "    print(f\"\\nOptimization level {i}:\")\n",
        "    pm = generate_preset_pass_manager(backend=backend, optimization_level=i, routing_method='basic', seed_transpiler=seed)\n",
        "    qc_tr = pm.run(qc)\n",
        "    score = scoring(qc_tr, backend)\n",
        "    for key, value in qc_tr.count_ops().items():\n",
        "        print(key, \":\", value)\n",
        "    print(f\"Score: {score:.6f}\")\n",
        "\n",
        "print(\"Plugins run by basic routing stage\")\n",
        "print(\"=================================\")\n",
        "for i in range(4):\n",
        "    print(f\"\\nOptimization level {i}:\")\n",
        "    pm = generate_preset_pass_manager(backend=backend, optimization_level=i, routing_method='basic', seed_transpiler=seed)\n",
        "\n",
        "    for controller_group in pm.routing.to_flow_controller().tasks:\n",
        "        tasks = getattr(controller_group, \"tasks\", [])\n",
        "        for task in tasks:\n",
        "            print(\" - \" , str(type(task).__name__))\n",
        "    display(pm.routing.draw())\n",
        "    print(pm.run(qc).layout.final_index_layout())\n",
        "\n",
        "## process stopped due to lookahead\n",
        "options = ['basic','sabre', 'stochastic']\n",
        "\n",
        "for option in options:\n",
        "    print(f\"Layout option = {option}:\")\n",
        "    pm = generate_preset_pass_manager(backend=backend, optimization_level=3, routing_method=option, seed_transpiler=seed)\n",
        "    qc_tr = pm.run(qc)\n",
        "    score = scoring(qc_tr, backend)\n",
        "\n",
        "    print(f\"Score: {score:.6f}\")\n",
        "\n",
        "    for key, value in qc_tr.count_ops().items():\n",
        "        print(key, \":\", value)\n",
        "    print(\"\\n\")"
      ],
      "metadata": {
        "id": "9cBgPXTGRDta"
      },
      "execution_count": null,
      "outputs": []
    },
    {
      "cell_type": "code",
      "source": [
        "list_stage_plugins(\"translation\")\n",
        "\n",
        "print(\"Number of each gates of transpiled circuit\")\n",
        "print(\"=================================\")\n",
        "\n",
        "for i in range(4):\n",
        "    print(f\"\\nOptimization level {i}:\")\n",
        "    pm = generate_preset_pass_manager(backend=backend, optimization_level=i, translation_method='translator', seed_transpiler=seed)\n",
        "    qc_tr = pm.run(qc)\n",
        "    score = scoring(qc_tr, backend)\n",
        "    for key, value in qc_tr.count_ops().items():\n",
        "        print(key, \":\", value)\n",
        "    print(f\"Score: {score:.6f}\")"
      ],
      "metadata": {
        "id": "6Lt79R5pRDp7"
      },
      "execution_count": null,
      "outputs": []
    },
    {
      "cell_type": "code",
      "source": [
        "options = ['translator', 'synthesis']\n",
        "\n",
        "print(\"Number of each gates of transpiled circuit\")\n",
        "print(\"=================================\")\n",
        "\n",
        "for option in options:\n",
        "    print(f\"Layout option = {option}:\")\n",
        "    pm = generate_preset_pass_manager(backend=backend, optimization_level=3, translation_method=option, seed_transpiler=seed)\n",
        "    qc_tr = pm.run(qc)\n",
        "    score = scoring(qc_tr, backend)\n",
        "    for key, value in qc_tr.count_ops().items():\n",
        "        print(key, \":\", value)\n",
        "    print(f\"Score: {score:.6f}\")\n",
        "    print(\"\\n\")"
      ],
      "metadata": {
        "id": "qhGYGFbsRDT2"
      },
      "execution_count": null,
      "outputs": []
    },
    {
      "cell_type": "code",
      "source": [
        "# Initialize lists for data collection\n",
        "tr_depths = []\n",
        "tr_gate_counts = []\n",
        "tr_scores = []\n",
        "\n",
        "options = ['translator', 'synthesis']\n",
        "\n",
        "# Compare translation methods across optimization levels\n",
        "for i in range(4):\n",
        "    for option in options:\n",
        "        pm = generate_preset_pass_manager(backend=backend, optimization_level=i, translation_method=option, seed_transpiler=seed)\n",
        "        qc_tr = pm.run(qc)\n",
        "        score = scoring(qc_tr, backend)\n",
        "\n",
        "        # Collect data\n",
        "        tr_depths.append(qc_tr.depth())\n",
        "        tr_gate_counts.append(sum(qc_tr.count_ops().values()))\n",
        "        tr_scores.append(score)\n",
        "\n",
        "        # Print results\n",
        "        print(f\"Optimization level {i}, Translation method {option}:\")\n",
        "        for key, value in qc_tr.count_ops().items():\n",
        "            print(key, \":\", value)\n",
        "        print(f\"Score: {score:.6f}\")\n",
        "        print(\"\\n\")\n"
      ],
      "metadata": {
        "id": "bO__3OxgRDQD"
      },
      "execution_count": null,
      "outputs": []
    },
    {
      "cell_type": "code",
      "source": [
        "colors = ['#FF6666', '#66B2FF']\n",
        "markers = [ '^', '*']\n",
        "linestyles = ['-.', ':']\n",
        "\n",
        "opt_list = []\n",
        "for i in range(4):\n",
        "    opt_list.append(f\"Optimization Level {i}\")\n",
        "\n",
        "ax = opt_list\n",
        "fig, (ax1, ax2, ax3) = plt.subplots(3, 1, figsize=(10, 12))\n",
        "\n",
        "# Plot 1: Circuit Depth\n",
        "for i in range(2):\n",
        "    ax1.plot(ax, tr_depths[i::2], label=options[i], marker=markers[i], markersize=9, linestyle=linestyles[i], color=colors[i], linewidth=2)\n",
        "ax1.set_xlabel(\"translation options\", fontsize=12)\n",
        "ax1.set_ylabel(\"Depth\", fontsize=12)\n",
        "ax1.set_title(\"Circuit Depth of Transpiled Circuit\", fontsize=14)\n",
        "ax1.legend(fontsize=10)\n",
        "\n",
        "# Plot 2: Total Number of Gates\n",
        "for i in range(2):\n",
        "    ax2.plot(ax, tr_gate_counts[i::2], label=options[i], marker=markers[i], markersize=9, linestyle=linestyles[i], color=colors[i], linewidth=2)\n",
        "ax2.set_xlabel(\"translation options\", fontsize=12)\n",
        "ax2.set_ylabel(\"# of Total Gates\", fontsize=12)\n",
        "ax2.set_title(\"Total Number of Gates of Transpiled Circuit\", fontsize=14)\n",
        "ax2.legend(fontsize=10)\n",
        "\n",
        "# Plot 3: Score of Transpiled Circuit\n",
        "for i in range(2):\n",
        "    ax3.plot(ax, tr_scores[i::2], label=options[i], marker=markers[i],markersize=9, linestyle=linestyles[i], color=colors[i], linewidth=2)\n",
        "ax3.set_xlabel(\"translation options\", fontsize=12)\n",
        "ax3.set_ylabel(\"Score of Transpiled Circuit\", fontsize=12)\n",
        "ax3.set_title(\"Score of Transpiled Circuit\", fontsize=14)\n",
        "ax3.legend(fontsize=10)\n",
        "\n",
        "fig.tight_layout()\n",
        "plt.show()"
      ],
      "metadata": {
        "id": "dgP78INISN3O"
      },
      "execution_count": null,
      "outputs": []
    },
    {
      "cell_type": "code",
      "source": [
        "list_stage_plugins(\"scheduling\")\n",
        "\n",
        "backend_timing = backend.target.timing_constraints()\n",
        "timing_constraints = TimingConstraints(\n",
        "    granularity=backend_timing.granularity,\n",
        "    min_length=backend_timing.min_length,\n",
        "    pulse_alignment=backend_timing.pulse_alignment,\n",
        "    acquire_alignment=backend_timing.acquire_alignment )"
      ],
      "metadata": {
        "id": "IxRGr_K8SN0I"
      },
      "execution_count": null,
      "outputs": []
    },
    {
      "cell_type": "code",
      "source": [
        "# Run with optimization level 3 and 'asap' scheduling pass\n",
        "pm_asap = generate_preset_pass_manager(\n",
        "    optimization_level=3,\n",
        "    backend=backend,\n",
        "    timing_constraints=timing_constraints,\n",
        "    scheduling_method=\"asap\",\n",
        "    seed_transpiler=seed,\n",
        ")"
      ],
      "metadata": {
        "id": "bmBNGRNHSNuD"
      },
      "execution_count": null,
      "outputs": []
    },
    {
      "cell_type": "code",
      "source": [
        "my_style = {\n",
        "    'formatter.general.fig_width': 40,\n",
        "    'formatter.general.fig_unit_height': 1,\n",
        "}\n",
        "\n",
        "draw(pm_asap.run(qc), style=IQXStandard(**my_style), show_idle=False, show_delays=True)"
      ],
      "metadata": {
        "id": "1I9QYaoWSNmh"
      },
      "execution_count": null,
      "outputs": []
    },
    {
      "cell_type": "code",
      "source": [
        "pm_alap = generate_preset_pass_manager(\n",
        "    optimization_level=3,\n",
        "    backend=backend,\n",
        "    timing_constraints=timing_constraints,\n",
        "    scheduling_method=\"alap\",\n",
        "    seed_transpiler=seed,\n",
        ")\n",
        "draw(pm_alap.run(qc), style=IQXStandard(**my_style), show_idle=False, show_delays=True)"
      ],
      "metadata": {
        "id": "EjdDi3ePSNi6"
      },
      "execution_count": null,
      "outputs": []
    },
    {
      "cell_type": "code",
      "source": [
        "print(\"Score\")\n",
        "print(\"===============\")\n",
        "print(f\"asap: {scoring(pm_asap.run(qc), backend):.6f}\")\n",
        "print(f\"alap: {scoring(pm_alap.run(qc), backend):.6f}\")"
      ],
      "metadata": {
        "id": "KmSpwvqDUFA4"
      },
      "execution_count": null,
      "outputs": []
    },
    {
      "cell_type": "code",
      "source": [
        "pm_ex4 = generate_preset_pass_manager(\n",
        "    backend=backend,\n",
        "\n",
        "    ### Write your code below here ###\n",
        "    optimization_level=3,\n",
        "    layout_method='sabre',\n",
        "    routing_method='sabre',\n",
        "    translation_method='synthesis',\n",
        "    seed_transpiler=seed\n",
        "\n",
        "    ### Don't change any code past this line ###\n",
        ")\n",
        "# Get timing constraints from backend\n",
        "backend_timing = backend.target.timing_constraints()\n",
        "timing_constraints = TimingConstraints(\n",
        "    granularity=backend_timing.granularity,\n",
        "    min_length=backend_timing.min_length,\n",
        "    pulse_alignment=backend_timing.pulse_alignment,\n",
        "    acquire_alignment=backend_timing.acquire_alignment\n",
        ")\n",
        "\n",
        "# Use scheduling in pass manager\n",
        "pm_asap = generate_preset_pass_manager(\n",
        "    optimization_level=3,\n",
        "    backend=backend,\n",
        "    timing_constraints=timing_constraints,\n",
        "    scheduling_method=\"asap\",\n",
        "    seed_transpiler=seed\n",
        ")\n"
      ],
      "metadata": {
        "id": "r7228CURUE9R"
      },
      "execution_count": null,
      "outputs": []
    },
    {
      "cell_type": "code",
      "source": [
        "# Submit your answer using following code\n",
        "\n",
        "grade_lab2_ex4(pm_ex4)\n",
        "\n",
        "dd_pm = PassManager([\n",
        "    ASAPScheduleAnalysis(durations=backend.target.durations()),  ## ASAPScheduleAnalysis first\n",
        "    PadDynamicalDecoupling(dd_sequence)  ## PadDynamicalDecoupling second\n",
        "])\n"
      ],
      "metadata": {
        "id": "OyJzYn1iUE5P"
      },
      "execution_count": 3,
      "outputs": []
    },
    {
      "cell_type": "code",
      "source": [
        "# Create XY4 dynamical decoupling sequence\n",
        "X = XGate()\n",
        "Y = YGate()\n",
        "dd_sequence = [X, Y, X, Y]\n",
        "\n",
        "# Set up backend and target with YGate properties\n",
        "backend = FakeTorino()\n",
        "target = backend.target\n",
        "\n",
        "y_gate_properties = {}\n",
        "for qubit in range(target.num_qubits):\n",
        "    y_gate_properties.update({\n",
        "        (qubit,): InstructionProperties(\n",
        "            duration=target[\"x\"][(qubit,)].duration,\n",
        "            error=target[\"x\"][(qubit,)].error,\n",
        "        )\n",
        "    })\n",
        "\n",
        "target.add_instruction(YGate(), y_gate_properties)\n",
        "\n",
        "# Create the dynamical decoupling pass manager\n",
        "dd_pm = PassManager([\n",
        "    ASAPScheduleAnalysis(durations=backend.target.durations()),\n",
        "    PadDynamicalDecoupling(dd_sequence)\n",
        "])\n",
        "\n",
        "draw(pm_asap.run(qc), style=IQXStandard(**my_style), show_idle=False, show_delays=True)\n",
        "\n",
        "# Create staged pass manager for submission\n",
        "staged_pm_dd = StagedPassManager(\n",
        "    stages=[\"scheduling\"],\n",
        "    scheduling=dd_pm\n",
        ")\n",
        "\n",
        "qc_tr = pm_asap.run(qc)\n",
        "draw(staged_pm_dd.run(qc_tr), style=IQXStandard(**my_style), show_idle=False, show_delays=True)\n",
        "\n",
        "grade_lab2_ex5(staged_pm_dd)"
      ],
      "metadata": {
        "id": "-FuQAGlAUE1f"
      },
      "execution_count": null,
      "outputs": []
    }
  ]
}