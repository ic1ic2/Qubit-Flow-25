{
  "nbformat": 4,
  "nbformat_minor": 0,
  "metadata": {
    "colab": {
      "provenance": []
    },
    "kernelspec": {
      "name": "python3",
      "display_name": "Python 3"
    },
    "language_info": {
      "name": "python"
    }
  },
  "cells": [
    {
      "cell_type": "markdown",
      "source": [
        "# **Quantum Algorithms in Qiskit**\n",
        "\n",
        "This notebook presents clear, cell-by-cell implementations for QFT, IQFT, Phase Estimation, and Shor's Algorithm."
      ],
      "metadata": {
        "id": "7eFAWKikudPn"
      }
    },
    {
      "cell_type": "code",
      "execution_count": 11,
      "metadata": {
        "id": "xY2TSc2CiyhA"
      },
      "outputs": [],
      "source": [
        "!pip install -q qiskit qiskit-aer pylatexenc matplotlib numpy\n"
      ]
    },
    {
      "cell_type": "code",
      "source": [
        "\n",
        "# Imports\n",
        "from qiskit import transpile\n",
        "from qiskit_aer import AerSimulator\n",
        "\n",
        "simulator = AerSimulator()\n",
        "\n",
        "import numpy as np\n",
        "from math import pi, gcd\n",
        "from qiskit import QuantumCircuit, transpile\n",
        "from qiskit_aer import AerSimulator\n",
        "from qiskit.visualization import plot_histogram\n",
        "from qiskit.quantum_info import Statevector\n",
        "import matplotlib.pyplot as plt\n"
      ],
      "metadata": {
        "id": "savHrEIWupo0"
      },
      "execution_count": 55,
      "outputs": []
    },
    {
      "cell_type": "markdown",
      "source": [
        "**Quantum Fourier Transform (QFT)**\n",
        "\n",
        "QFT transforms a quantum state from the computational basis to the Fourier basis using Hadamard and controlled phase gates.\n",
        "\n"
      ],
      "metadata": {
        "id": "5Yvbe9HBuwxd"
      }
    },
    {
      "cell_type": "code",
      "source": [
        "def qft(n):\n",
        "  qc = QuantumCircuit(n)\n",
        "\n",
        "  for i in range(n):\n",
        "      qc.h(i)\n",
        "      for j in range(i+1, n):\n",
        "          qc.cp(np.pi / (2 ** (j - i)), j, i)\n",
        "\n",
        "    #swap qubits to reverse order\n",
        "  for i in range(n // 2):\n",
        "      qc.swap(i, n - i - 1)\n",
        "\n",
        "  qc.name = \"QFT\"\n",
        "  return qc"
      ],
      "metadata": {
        "id": "gtF5mISNurtz"
      },
      "execution_count": 58,
      "outputs": []
    },
    {
      "cell_type": "code",
      "source": [
        "\n",
        "#sample implementation\n",
        "#example state |101>\n",
        "n= 3\n",
        "qc= QuantumCircuit(n)\n",
        "qc.x(0)\n",
        "qc.x(2)\n",
        "\n",
        "#append QFT and IQFT as instructions\n",
        "qft_gate = qft(n).to_instruction()\n",
        "\n",
        "qc.append(qft_gate, range(n))\n",
        "\n",
        "qc.measure_all()\n",
        "\n",
        "#unroll the circuit to the simulator's basis gates\n",
        "unrolled_qc = qc.decompose()\n",
        "\n",
        "\n",
        "result= sim.run(unrolled_qc).result()\n",
        "counts= result.get_counts()\n",
        "plot_histogram(counts)"
      ],
      "metadata": {
        "colab": {
          "base_uri": "https://localhost:8080/",
          "height": 487
        },
        "id": "YqNo0dcR6krl",
        "outputId": "187ff526-38f1-4c1e-ce36-b9a1c0469c90"
      },
      "execution_count": 59,
      "outputs": [
        {
          "output_type": "execute_result",
          "data": {
            "text/plain": [
              "<Figure size 640x480 with 1 Axes>"
            ],
            "image/png": "[encoded data removed]"
          },
          "metadata": {},
          "execution_count": 59
        }
      ]
    },
    {
      "cell_type": "markdown",
      "source": [
        "**Inverse Quantum Fourier Transform (IQFT)**\n",
        "\n",
        "IQFT reverses the QFT operation, restoring the original computational basis."
      ],
      "metadata": {
        "id": "5SnavKnivQab"
      }
    },
    {
      "cell_type": "code",
      "source": [
        "def iqft_circuit(n_qubits):\n",
        "    qc = QuantumCircuit(n_qubits)\n",
        "    for i in range(n_qubits // 2):\n",
        "        qc.swap(i, n_qubits - 1 - i)\n",
        "    for j in reversed(range(n_qubits)):\n",
        "        for k in reversed(range(j+1, n_qubits)):\n",
        "            qc.cp(-pi / 2**(k-j), k, j)\n",
        "        qc.h(j)\n",
        "    return qc\n"
      ],
      "metadata": {
        "id": "J6WF_eRyvCQC"
      },
      "execution_count": 29,
      "outputs": []
    },
    {
      "cell_type": "code",
      "source": [
        "# Apply IQFT to the QFT output\n",
        "final_state_iqft = final_state.evolve(iqft_circuit(n))\n",
        "\n",
        "print(\"\\nInverse QFT Output Statevector:\")\n",
        "for i, amp in enumerate(final_state_iqft.data):\n",
        "    print(f\"|{i:0{n}b}⟩: amplitude = {amp.real:.4f}{amp.imag:+.4f}j\")\n"
      ],
      "metadata": {
        "colab": {
          "base_uri": "https://localhost:8080/"
        },
        "id": "0K7m9h5XvV1P",
        "outputId": "6ce6267e-395d-4710-95ed-1090b20ab034"
      },
      "execution_count": 30,
      "outputs": [
        {
          "output_type": "stream",
          "name": "stdout",
          "text": [
            "\n",
            "Inverse QFT Output Statevector:\n",
            "|0000⟩: amplitude = -0.0000-0.0000j\n",
            "|0001⟩: amplitude = -0.0000+0.0000j\n",
            "|0010⟩: amplitude = 1.0000+0.0000j\n",
            "|0011⟩: amplitude = -0.0000-0.0000j\n",
            "|0100⟩: amplitude = 0.0000+0.0000j\n",
            "|0101⟩: amplitude = 0.0000-0.0000j\n",
            "|0110⟩: amplitude = 0.0000-0.0000j\n",
            "|0111⟩: amplitude = 0.0000+0.0000j\n",
            "|1000⟩: amplitude = 0.0000+0.0000j\n",
            "|1001⟩: amplitude = 0.0000-0.0000j\n",
            "|1010⟩: amplitude = 0.0000-0.0000j\n",
            "|1011⟩: amplitude = 0.0000+0.0000j\n",
            "|1100⟩: amplitude = 0.0000+0.0000j\n",
            "|1101⟩: amplitude = 0.0000-0.0000j\n",
            "|1110⟩: amplitude = 0.0000-0.0000j\n",
            "|1111⟩: amplitude = 0.0000+0.0000j\n"
          ]
        }
      ]
    },
    {
      "cell_type": "markdown",
      "source": [
        "**QFT + IQFT (Identity Check)**"
      ],
      "metadata": {
        "id": "Pi71_mmhvdnN"
      }
    },
    {
      "cell_type": "code",
      "source": [
        "qc_full = QuantumCircuit(n)\n",
        "qc_full.x(1)  # Prepare |0010⟩\n",
        "qc_full.append(qft_circuit(n), range(n))\n",
        "qc_full.append(iqft_circuit(n), range(n))\n",
        "\n",
        "final_state_identity = Statevector.from_instruction(qc_full)\n",
        "\n",
        "print(\"\\nFinal Statevector after QFT + iQFT:\")\n",
        "for i, amp in enumerate(final_state_identity.data):\n",
        "    print(f\"|{i:0{n}b}⟩: amplitude = {amp.real:.4f}{amp.imag:+.4f}j\")\n"
      ],
      "metadata": {
        "colab": {
          "base_uri": "https://localhost:8080/"
        },
        "id": "5jlobeULvcx2",
        "outputId": "0ba1f8ba-19b6-458d-af91-ed6d7d261ea3"
      },
      "execution_count": 31,
      "outputs": [
        {
          "output_type": "stream",
          "name": "stdout",
          "text": [
            "\n",
            "Final Statevector after QFT + iQFT:\n",
            "|0000⟩: amplitude = -0.0000-0.0000j\n",
            "|0001⟩: amplitude = -0.0000+0.0000j\n",
            "|0010⟩: amplitude = 1.0000+0.0000j\n",
            "|0011⟩: amplitude = -0.0000-0.0000j\n",
            "|0100⟩: amplitude = 0.0000+0.0000j\n",
            "|0101⟩: amplitude = 0.0000-0.0000j\n",
            "|0110⟩: amplitude = 0.0000-0.0000j\n",
            "|0111⟩: amplitude = 0.0000+0.0000j\n",
            "|1000⟩: amplitude = 0.0000+0.0000j\n",
            "|1001⟩: amplitude = 0.0000-0.0000j\n",
            "|1010⟩: amplitude = 0.0000-0.0000j\n",
            "|1011⟩: amplitude = 0.0000+0.0000j\n",
            "|1100⟩: amplitude = 0.0000+0.0000j\n",
            "|1101⟩: amplitude = 0.0000-0.0000j\n",
            "|1110⟩: amplitude = 0.0000-0.0000j\n",
            "|1111⟩: amplitude = 0.0000+0.0000j\n"
          ]
        }
      ]
    },
    {
      "cell_type": "markdown",
      "source": [
        "**Quantum Phase Estimation (QPE)**\n",
        "\n",
        "QPE estimates the eigenvalue phase of a unitary operator."
      ],
      "metadata": {
        "id": "rG9RhhYmvoh9"
      }
    },
    {
      "cell_type": "code",
      "source": [
        "from qiskit.circuit.library import QFT\n",
        "\n",
        "t = 3  # Number of counting (control) qubits\n",
        "n = 1  # Number of target qubits\n",
        "\n",
        "qc3 = QuantumCircuit(t + n, t)\n",
        "qc3.h(range(t))      # Apply Hadamard to all control qubits\n",
        "qc3.x(t)             # Prepare target in |1⟩\n",
        "\n",
        "theta = 0.125\n",
        "U = QuantumCircuit(1)\n",
        "U.p(2 * pi * theta, 0)  # Unitary with known phase shift\n",
        "\n",
        "for i in range(t):\n",
        "    power = 2**i\n",
        "    powered_U = U.power(power)\n",
        "    controlled_U = powered_U.control()\n",
        "    qc3.append(controlled_U, [i, t])\n",
        "\n",
        "qft = QFT(t, inverse=True, do_swaps=True).to_gate()\n",
        "qc3.append(qft, range(t))\n",
        "\n",
        "qc3.measure(range(t), range(t))\n",
        "qc3 = qc3.decompose(reps=10)  # Decompose for simulator compatibility\n",
        "\n",
        "sim = AerSimulator()\n",
        "result = sim.run(qc3, shots=1024).result()\n",
        "counts = result.get_counts()\n",
        "plot_histogram(counts)\n"
      ],
      "metadata": {
        "colab": {
          "base_uri": "https://localhost:8080/",
          "height": 542
        },
        "id": "xEMz5xAwvZQq",
        "outputId": "093d44dc-1ca5-4b69-8871-5c086c35ee95"
      },
      "execution_count": 22,
      "outputs": [
        {
          "output_type": "stream",
          "name": "stderr",
          "text": [
            "/tmp/ipython-input-22-4256269063.py:20: DeprecationWarning: The class ``qiskit.circuit.library.basis_change.qft.QFT`` is deprecated as of Qiskit 2.1. It will be removed in Qiskit 3.0. ('Use qiskit.circuit.library.QFTGate or qiskit.synthesis.qft.synth_qft_full instead, for access to all previous arguments.',)\n",
            "  qft = QFT(t, inverse=True, do_swaps=True).to_gate()\n"
          ]
        },
        {
          "output_type": "execute_result",
          "data": {
            "text/plain": [
              "<Figure size 640x480 with 1 Axes>"
            ],
            "image/png": "[encoded data removed]"
          },
          "metadata": {},
          "execution_count": 22
        }
      ]
    },
    {
      "cell_type": "markdown",
      "source": [
        "**Shor's Algorithm**\n",
        "\n",
        "Shor's Algorithm factors integers by finding the period of modular exponentiation."
      ],
      "metadata": {
        "id": "nVrQIpbHv6C9"
      }
    },
    {
      "cell_type": "code",
      "source": [
        "def shors_period_finding(N=1555, a=7):\n",
        "    n_qubits = 4\n",
        "    qc = QuantumCircuit(2 * n_qubits, n_qubits)\n",
        "    for i in range(n_qubits):\n",
        "        qc.h(i)\n",
        "    for i in range(n_qubits):\n",
        "        if i % 2 == 0:\n",
        "            qc.cx(i, n_qubits + i % n_qubits)\n",
        "    qc.append(qft_circuit(n_qubits), range(n_qubits))\n",
        "    qc.measure(range(n_qubits), range(n_qubits))\n",
        "    return qc\n",
        "\n",
        "N = 1555\n",
        "a = 7\n",
        "print(f\"Factoring N = {N} using a = {a}\")\n",
        "print(f\"Period verification: {a}^4 mod {N} = {(a**4) % N}\")\n",
        "\n",
        "qc = shors_period_finding(N, a)\n",
        "job = sim.run(transpile(qc, sim), shots=1000)\n",
        "result = job.result()\n",
        "counts = result.get_counts()\n",
        "print(\"Quantum Period Finding Results\")\n",
        "for state, count in sorted(counts.items()):\n",
        "    if count > 50:\n",
        "        decimal_value = int(state, 2)\n",
        "        print(f\"|{state}⟩= {count/1000:.3f}, decimal - {decimal_value}\")\n"
      ],
      "metadata": {
        "colab": {
          "base_uri": "https://localhost:8080/"
        },
        "id": "ql32Mu8Cv0oj",
        "outputId": "a81859d5-3e90-4e4f-8158-7c18c026b297"
      },
      "execution_count": 23,
      "outputs": [
        {
          "output_type": "stream",
          "name": "stdout",
          "text": [
            "Factoring N = 1555 using a = 7\n",
            "Period verification: 7^4 mod 1555 = 846\n",
            "Quantum Period Finding Results\n",
            "|0000⟩= 0.225, decimal - 0\n",
            "|0010⟩= 0.134, decimal - 2\n",
            "|0011⟩= 0.119, decimal - 3\n",
            "|1000⟩= 0.114, decimal - 8\n",
            "|1011⟩= 0.109, decimal - 11\n",
            "|1100⟩= 0.095, decimal - 12\n",
            "|1111⟩= 0.118, decimal - 15\n"
          ]
        }
      ]
    },
    {
      "cell_type": "code",
      "source": [
        "r = 4  # Period found (example)\n",
        "factor1 = gcd(a**(r//2) - 1, N)\n",
        "factor2 = gcd(a**(r//2) + 1, N)\n",
        "print(\"Classical post-processing:\")\n",
        "print(f\"gcd({a}^{r//2} - 1, {N}) = {factor1}\")\n",
        "print(f\"gcd({a}^{r//2} + 1, {N}) = {factor2}\")\n",
        "if factor1 > 1 and factor1 < N:\n",
        "    print(f\"Found factors: {factor1} × {N//factor1} = {N}\")\n",
        "elif factor2 > 1 and factor2 < N:\n",
        "    print(f\"Found factors: {factor2} × {N//factor2} = {N}\")\n"
      ],
      "metadata": {
        "colab": {
          "base_uri": "https://localhost:8080/"
        },
        "id": "swYft1RqwBr8",
        "outputId": "8550b7bd-995b-47d8-dc18-db84157b654c"
      },
      "execution_count": 24,
      "outputs": [
        {
          "output_type": "stream",
          "name": "stdout",
          "text": [
            "Classical post-processing:\n",
            "gcd(7^2 - 1, 1555) = 1\n",
            "gcd(7^2 + 1, 1555) = 5\n",
            "Found factors: 5 × 311 = 1555\n"
          ]
        }
      ]
    }
  ]
}