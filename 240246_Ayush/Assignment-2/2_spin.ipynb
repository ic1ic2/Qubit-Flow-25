{
 "cells": [
  {
   "cell_type": "code",
   "execution_count": 9,
   "id": "606efd3d-9597-4a6d-8334-386b90239ad3",
   "metadata": {},
   "outputs": [
    {
     "name": "stdout",
     "output_type": "stream",
     "text": [
      "Requirement already satisfied: qiskit in c:\\users\\ayush\\appdata\\local\\programs\\python\\python312\\lib\\site-packages (2.0.2)\n",
      "Requirement already satisfied: rustworkx>=0.15.0 in c:\\users\\ayush\\appdata\\local\\programs\\python\\python312\\lib\\site-packages (from qiskit) (0.16.0)\n",
      "Requirement already satisfied: numpy<3,>=1.17 in c:\\users\\ayush\\appdata\\local\\programs\\python\\python312\\lib\\site-packages (from qiskit) (1.26.4)\n",
      "Requirement already satisfied: scipy>=1.5 in c:\\users\\ayush\\appdata\\local\\programs\\python\\python312\\lib\\site-packages (from qiskit) (1.15.2)\n",
      "Requirement already satisfied: sympy>=1.3 in c:\\users\\ayush\\appdata\\local\\programs\\python\\python312\\lib\\site-packages (from qiskit) (1.14.0)\n",
      "Requirement already satisfied: dill>=0.3 in c:\\users\\ayush\\appdata\\local\\programs\\python\\python312\\lib\\site-packages (from qiskit) (0.4.0)\n",
      "Requirement already satisfied: python-dateutil>=2.8.0 in c:\\users\\ayush\\appdata\\local\\programs\\python\\python312\\lib\\site-packages (from qiskit) (2.9.0.post0)\n",
      "Requirement already satisfied: stevedore>=3.0.0 in c:\\users\\ayush\\appdata\\local\\programs\\python\\python312\\lib\\site-packages (from qiskit) (5.4.1)\n",
      "Requirement already satisfied: typing-extensions in c:\\users\\ayush\\appdata\\local\\programs\\python\\python312\\lib\\site-packages (from qiskit) (4.12.2)\n",
      "Requirement already satisfied: symengine<0.14,>=0.11 in c:\\users\\ayush\\appdata\\local\\programs\\python\\python312\\lib\\site-packages (from qiskit) (0.13.0)\n",
      "Requirement already satisfied: six>=1.5 in c:\\users\\ayush\\appdata\\local\\programs\\python\\python312\\lib\\site-packages (from python-dateutil>=2.8.0->qiskit) (1.17.0)\n",
      "Requirement already satisfied: pbr>=2.0.0 in c:\\users\\ayush\\appdata\\local\\programs\\python\\python312\\lib\\site-packages (from stevedore>=3.0.0->qiskit) (6.1.1)\n",
      "Requirement already satisfied: mpmath<1.4,>=1.1.0 in c:\\users\\ayush\\appdata\\local\\programs\\python\\python312\\lib\\site-packages (from sympy>=1.3->qiskit) (1.3.0)\n",
      "Requirement already satisfied: setuptools in c:\\users\\ayush\\appdata\\local\\programs\\python\\python312\\lib\\site-packages (from pbr>=2.0.0->stevedore>=3.0.0->qiskit) (74.1.0)\n",
      "Note: you may need to restart the kernel to use updated packages.\n"
     ]
    },
    {
     "name": "stderr",
     "output_type": "stream",
     "text": [
      "\n",
      "[notice] A new release of pip is available: 24.2 -> 25.1.1\n",
      "[notice] To update, run: python.exe -m pip install --upgrade pip\n"
     ]
    },
    {
     "name": "stdout",
     "output_type": "stream",
     "text": [
      "Requirement already satisfied: qiskit_aer in c:\\users\\ayush\\appdata\\local\\programs\\python\\python312\\lib\\site-packages (0.17.1)\n",
      "Requirement already satisfied: qiskit>=1.1.0 in c:\\users\\ayush\\appdata\\local\\programs\\python\\python312\\lib\\site-packages (from qiskit_aer) (2.0.2)\n",
      "Requirement already satisfied: numpy>=1.16.3 in c:\\users\\ayush\\appdata\\local\\programs\\python\\python312\\lib\\site-packages (from qiskit_aer) (1.26.4)\n",
      "Requirement already satisfied: scipy>=1.0 in c:\\users\\ayush\\appdata\\local\\programs\\python\\python312\\lib\\site-packages (from qiskit_aer) (1.15.2)\n",
      "Requirement already satisfied: psutil>=5 in c:\\users\\ayush\\appdata\\local\\programs\\python\\python312\\lib\\site-packages (from qiskit_aer) (6.0.0)\n",
      "Requirement already satisfied: python-dateutil>=2.8.0 in c:\\users\\ayush\\appdata\\local\\programs\\python\\python312\\lib\\site-packages (from qiskit_aer) (2.9.0.post0)\n",
      "Requirement already satisfied: six>=1.5 in c:\\users\\ayush\\appdata\\local\\programs\\python\\python312\\lib\\site-packages (from python-dateutil>=2.8.0->qiskit_aer) (1.17.0)\n",
      "Requirement already satisfied: rustworkx>=0.15.0 in c:\\users\\ayush\\appdata\\local\\programs\\python\\python312\\lib\\site-packages (from qiskit>=1.1.0->qiskit_aer) (0.16.0)\n",
      "Requirement already satisfied: sympy>=1.3 in c:\\users\\ayush\\appdata\\local\\programs\\python\\python312\\lib\\site-packages (from qiskit>=1.1.0->qiskit_aer) (1.14.0)\n",
      "Requirement already satisfied: dill>=0.3 in c:\\users\\ayush\\appdata\\local\\programs\\python\\python312\\lib\\site-packages (from qiskit>=1.1.0->qiskit_aer) (0.4.0)\n",
      "Requirement already satisfied: stevedore>=3.0.0 in c:\\users\\ayush\\appdata\\local\\programs\\python\\python312\\lib\\site-packages (from qiskit>=1.1.0->qiskit_aer) (5.4.1)\n",
      "Requirement already satisfied: typing-extensions in c:\\users\\ayush\\appdata\\local\\programs\\python\\python312\\lib\\site-packages (from qiskit>=1.1.0->qiskit_aer) (4.12.2)\n",
      "Requirement already satisfied: symengine<0.14,>=0.11 in c:\\users\\ayush\\appdata\\local\\programs\\python\\python312\\lib\\site-packages (from qiskit>=1.1.0->qiskit_aer) (0.13.0)\n",
      "Requirement already satisfied: pbr>=2.0.0 in c:\\users\\ayush\\appdata\\local\\programs\\python\\python312\\lib\\site-packages (from stevedore>=3.0.0->qiskit>=1.1.0->qiskit_aer) (6.1.1)\n",
      "Requirement already satisfied: mpmath<1.4,>=1.1.0 in c:\\users\\ayush\\appdata\\local\\programs\\python\\python312\\lib\\site-packages (from sympy>=1.3->qiskit>=1.1.0->qiskit_aer) (1.3.0)\n",
      "Requirement already satisfied: setuptools in c:\\users\\ayush\\appdata\\local\\programs\\python\\python312\\lib\\site-packages (from pbr>=2.0.0->stevedore>=3.0.0->qiskit>=1.1.0->qiskit_aer) (74.1.0)\n",
      "Note: you may need to restart the kernel to use updated packages.\n"
     ]
    },
    {
     "name": "stderr",
     "output_type": "stream",
     "text": [
      "\n",
      "[notice] A new release of pip is available: 24.2 -> 25.1.1\n",
      "[notice] To update, run: python.exe -m pip install --upgrade pip\n"
     ]
    }
   ],
   "source": [
    "%pip install qiskit\n",
    "%pip install qiskit_aer"
   ]
  },
  {
   "cell_type": "code",
   "execution_count": 40,
   "id": "32015d9b-f73e-4919-a163-c14072f67298",
   "metadata": {},
   "outputs": [],
   "source": [
    "from qiskit import QuantumCircuit\n",
    "from qiskit_aer import AerSimulator\n",
    "from qiskit import QuantumCircuit, QuantumRegister, ClassicalRegister\n",
    "\n",
    "import numpy as np"
   ]
  },
  {
   "cell_type": "code",
   "execution_count": 45,
   "id": "4e615edd-a04d-482d-a356-899317117fff",
   "metadata": {},
   "outputs": [],
   "source": [
    "coupling_strength=1\n",
    "t =np.pi"
   ]
  },
  {
   "cell_type": "code",
   "execution_count": 65,
   "id": "4cfd5c51-78bf-46bc-bbc6-110c936c77d8",
   "metadata": {},
   "outputs": [
    {
     "data": {
      "text/plain": [
       "<qiskit.circuit.instructionset.InstructionSet at 0x187ab0c8ca0>"
      ]
     },
     "execution_count": 65,
     "metadata": {},
     "output_type": "execute_result"
    }
   ],
   "source": [
    "qreg = QuantumRegister(2, 'q')\n",
    "creg = ClassicalRegister(2, 'c')\n",
    "circuit = QuantumCircuit(qreg, creg)\n",
    "circuit.x(qreg[0])\n",
    "\n",
    "circuit.rxx(2*coupling_strength*t, 0, 1) # interaction along x\n",
    "circuit.ryy(2*coupling_strength*t, 0, 1) # interaction along y\n",
    "circuit.rzz(2*coupling_strength*t, 0, 1) # interaction along Z\n",
    "circuit.measure(qreg[0], creg[0])\n",
    "circuit.measure(qreg[1], creg[1])"
   ]
  },
  {
   "cell_type": "code",
   "execution_count": 66,
   "id": "fd8bdc14-acd6-4fe2-b505-4bee8e1f0fac",
   "metadata": {},
   "outputs": [
    {
     "data": {
      "image/png": "[encoded data removed]",
      "text/plain": [
       "<Figure size 705.35x284.278 with 1 Axes>"
      ]
     },
     "execution_count": 66,
     "metadata": {},
     "output_type": "execute_result"
    }
   ],
   "source": [
    "circuit.draw('mpl')"
   ]
  },
  {
   "cell_type": "code",
   "execution_count": 67,
   "id": "4b76b97a-56ad-4d9b-bc89-4ac0fd24ffe7",
   "metadata": {},
   "outputs": [
    {
     "name": "stdout",
     "output_type": "stream",
     "text": [
      "Results: {'01': 500}\n"
     ]
    }
   ],
   "source": [
    "simulate = AerSimulator()\n",
    "results = simulate.run(circuit, shots=500).result()\n",
    "counts = results.get_counts()\n",
    "print(\"Results:\", counts)"
   ]
  },
  {
   "cell_type": "code",
   "execution_count": null,
   "id": "586c5eee-f080-4a09-ac12-ed77839254bd",
   "metadata": {},
   "outputs": [],
   "source": []
  }
 ],
 "metadata": {
  "kernelspec": {
   "display_name": "Python 3 (ipykernel)",
   "language": "python",
   "name": "python3"
  },
  "language_info": {
   "codemirror_mode": {
    "name": "ipython",
    "version": 3
   },
   "file_extension": ".py",
   "mimetype": "text/x-python",
   "name": "python",
   "nbconvert_exporter": "python",
   "pygments_lexer": "ipython3",
   "version": "3.12.5"
  }
 },
 "nbformat": 4,
 "nbformat_minor": 5
}
