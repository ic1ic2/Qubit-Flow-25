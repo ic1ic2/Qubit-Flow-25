{
  "nbformat": 4,
  "nbformat_minor": 0,
  "metadata": {
    "colab": {
      "provenance": []
    },
    "kernelspec": {
      "name": "python3",
      "display_name": "Python 3"
    },
    "language_info": {
      "name": "python"
    }
  },
  "cells": [
    {
      "cell_type": "code",
      "execution_count": 2,
      "metadata": {
        "colab": {
          "base_uri": "https://localhost:8080/"
        },
        "id": "G6TBUc9lIAGK",
        "outputId": "84b5c897-77f0-4954-a22b-b5358688ac01"
      },
      "outputs": [
        {
          "output_type": "stream",
          "name": "stdout",
          "text": [
            "Collecting qiskit\n",
            "  Downloading qiskit-2.1.0-cp39-abi3-manylinux_2_17_x86_64.manylinux2014_x86_64.whl.metadata (12 kB)\n",
            "Collecting rustworkx>=0.15.0 (from qiskit)\n",
            "  Downloading rustworkx-0.16.0-cp39-abi3-manylinux_2_17_x86_64.manylinux2014_x86_64.whl.metadata (10 kB)\n",
            "Requirement already satisfied: numpy<3,>=1.17 in /usr/local/lib/python3.11/dist-packages (from qiskit) (2.0.2)\n",
            "Requirement already satisfied: scipy>=1.5 in /usr/local/lib/python3.11/dist-packages (from qiskit) (1.15.3)\n",
            "Requirement already satisfied: dill>=0.3 in /usr/local/lib/python3.11/dist-packages (from qiskit) (0.3.7)\n",
            "Collecting stevedore>=3.0.0 (from qiskit)\n",
            "  Downloading stevedore-5.4.1-py3-none-any.whl.metadata (2.3 kB)\n",
            "Requirement already satisfied: typing-extensions in /usr/local/lib/python3.11/dist-packages (from qiskit) (4.14.0)\n",
            "Collecting pbr>=2.0.0 (from stevedore>=3.0.0->qiskit)\n",
            "  Downloading pbr-6.1.1-py2.py3-none-any.whl.metadata (3.4 kB)\n",
            "Requirement already satisfied: setuptools in /usr/local/lib/python3.11/dist-packages (from pbr>=2.0.0->stevedore>=3.0.0->qiskit) (75.2.0)\n",
            "Downloading qiskit-2.1.0-cp39-abi3-manylinux_2_17_x86_64.manylinux2014_x86_64.whl (7.5 MB)\n",
            "\u001b[2K   \u001b[90m━━━━━━━━━━━━━━━━━━━━━━━━━━━━━━━━━━━━━━━━\u001b[0m \u001b[32m7.5/7.5 MB\u001b[0m \u001b[31m44.3 MB/s\u001b[0m eta \u001b[36m0:00:00\u001b[0m\n",
            "\u001b[?25hDownloading rustworkx-0.16.0-cp39-abi3-manylinux_2_17_x86_64.manylinux2014_x86_64.whl (2.1 MB)\n",
            "\u001b[2K   \u001b[90m━━━━━━━━━━━━━━━━━━━━━━━━━━━━━━━━━━━━━━━━\u001b[0m \u001b[32m2.1/2.1 MB\u001b[0m \u001b[31m48.9 MB/s\u001b[0m eta \u001b[36m0:00:00\u001b[0m\n",
            "\u001b[?25hDownloading stevedore-5.4.1-py3-none-any.whl (49 kB)\n",
            "\u001b[2K   \u001b[90m━━━━━━━━━━━━━━━━━━━━━━━━━━━━━━━━━━━━━━━━\u001b[0m \u001b[32m49.5/49.5 kB\u001b[0m \u001b[31m4.0 MB/s\u001b[0m eta \u001b[36m0:00:00\u001b[0m\n",
            "\u001b[?25hDownloading pbr-6.1.1-py2.py3-none-any.whl (108 kB)\n",
            "\u001b[2K   \u001b[90m━━━━━━━━━━━━━━━━━━━━━━━━━━━━━━━━━━━━━━━━\u001b[0m \u001b[32m109.0/109.0 kB\u001b[0m \u001b[31m7.7 MB/s\u001b[0m eta \u001b[36m0:00:00\u001b[0m\n",
            "\u001b[?25hInstalling collected packages: rustworkx, pbr, stevedore, qiskit\n",
            "Successfully installed pbr-6.1.1 qiskit-2.1.0 rustworkx-0.16.0 stevedore-5.4.1\n"
          ]
        }
      ],
      "source": [
        "!pip install qiskit"
      ]
    },
    {
      "cell_type": "code",
      "metadata": {
        "colab": {
          "base_uri": "https://localhost:8080/"
        },
        "id": "1fdc6174",
        "outputId": "189488b8-20f0-4a4d-c183-084ef49576c9"
      },
      "source": [
        "!pip install qiskit-aer"
      ],
      "execution_count": 3,
      "outputs": [
        {
          "output_type": "stream",
          "name": "stdout",
          "text": [
            "Collecting qiskit-aer\n",
            "  Downloading qiskit_aer-0.17.1-cp311-cp311-manylinux_2_17_x86_64.manylinux2014_x86_64.whl.metadata (8.3 kB)\n",
            "Requirement already satisfied: qiskit>=1.1.0 in /usr/local/lib/python3.11/dist-packages (from qiskit-aer) (2.1.0)\n",
            "Requirement already satisfied: numpy>=1.16.3 in /usr/local/lib/python3.11/dist-packages (from qiskit-aer) (2.0.2)\n",
            "Requirement already satisfied: scipy>=1.0 in /usr/local/lib/python3.11/dist-packages (from qiskit-aer) (1.15.3)\n",
            "Requirement already satisfied: psutil>=5 in /usr/local/lib/python3.11/dist-packages (from qiskit-aer) (5.9.5)\n",
            "Requirement already satisfied: python-dateutil>=2.8.0 in /usr/local/lib/python3.11/dist-packages (from qiskit-aer) (2.9.0.post0)\n",
            "Requirement already satisfied: six>=1.5 in /usr/local/lib/python3.11/dist-packages (from python-dateutil>=2.8.0->qiskit-aer) (1.17.0)\n",
            "Requirement already satisfied: rustworkx>=0.15.0 in /usr/local/lib/python3.11/dist-packages (from qiskit>=1.1.0->qiskit-aer) (0.16.0)\n",
            "Requirement already satisfied: dill>=0.3 in /usr/local/lib/python3.11/dist-packages (from qiskit>=1.1.0->qiskit-aer) (0.3.7)\n",
            "Requirement already satisfied: stevedore>=3.0.0 in /usr/local/lib/python3.11/dist-packages (from qiskit>=1.1.0->qiskit-aer) (5.4.1)\n",
            "Requirement already satisfied: typing-extensions in /usr/local/lib/python3.11/dist-packages (from qiskit>=1.1.0->qiskit-aer) (4.14.0)\n",
            "Requirement already satisfied: pbr>=2.0.0 in /usr/local/lib/python3.11/dist-packages (from stevedore>=3.0.0->qiskit>=1.1.0->qiskit-aer) (6.1.1)\n",
            "Requirement already satisfied: setuptools in /usr/local/lib/python3.11/dist-packages (from pbr>=2.0.0->stevedore>=3.0.0->qiskit>=1.1.0->qiskit-aer) (75.2.0)\n",
            "Downloading qiskit_aer-0.17.1-cp311-cp311-manylinux_2_17_x86_64.manylinux2014_x86_64.whl (12.4 MB)\n",
            "\u001b[2K   \u001b[90m━━━━━━━━━━━━━━━━━━━━━━━━━━━━━━━━━━━━━━━━\u001b[0m \u001b[32m12.4/12.4 MB\u001b[0m \u001b[31m97.1 MB/s\u001b[0m eta \u001b[36m0:00:00\u001b[0m\n",
            "\u001b[?25hInstalling collected packages: qiskit-aer\n",
            "Successfully installed qiskit-aer-0.17.1\n"
          ]
        }
      ]
    },
    {
      "cell_type": "code",
      "metadata": {
        "colab": {
          "base_uri": "https://localhost:8080/"
        },
        "id": "608eb690",
        "outputId": "22cf72dc-f3ee-4367-d725-31196df21dbb"
      },
      "source": [
        "!pip install pylatexenc"
      ],
      "execution_count": 4,
      "outputs": [
        {
          "output_type": "stream",
          "name": "stdout",
          "text": [
            "Collecting pylatexenc\n",
            "  Downloading pylatexenc-2.10.tar.gz (162 kB)\n",
            "\u001b[?25l     \u001b[90m━━━━━━━━━━━━━━━━━━━━━━━━━━━━━━━━━━━━━━━━\u001b[0m \u001b[32m0.0/162.6 kB\u001b[0m \u001b[31m?\u001b[0m eta \u001b[36m-:--:--\u001b[0m\r\u001b[2K     \u001b[91m━━━━━━━━━━━━━━━━━━━━━━━━━━━━━\u001b[0m\u001b[90m╺\u001b[0m\u001b[90m━━━━━━━━━\u001b[0m \u001b[32m122.9/162.6 kB\u001b[0m \u001b[31m3.9 MB/s\u001b[0m eta \u001b[36m0:00:01\u001b[0m\r\u001b[2K     \u001b[90m━━━━━━━━━━━━━━━━━━━━━━━━━━━━━━━━━━━━━━━\u001b[0m \u001b[32m162.6/162.6 kB\u001b[0m \u001b[31m3.2 MB/s\u001b[0m eta \u001b[36m0:00:00\u001b[0m\n",
            "\u001b[?25h  Preparing metadata (setup.py) ... \u001b[?25l\u001b[?25hdone\n",
            "Building wheels for collected packages: pylatexenc\n",
            "  Building wheel for pylatexenc (setup.py) ... \u001b[?25l\u001b[?25hdone\n",
            "  Created wheel for pylatexenc: filename=pylatexenc-2.10-py3-none-any.whl size=136817 sha256=33e1c65450c6fb0a42aa86c39935956cada5dd0d30a65fd177c7820c9802f7c3\n",
            "  Stored in directory: /root/.cache/pip/wheels/b1/7a/33/9fdd892f784ed4afda62b685ae3703adf4c91aa0f524c28f03\n",
            "Successfully built pylatexenc\n",
            "Installing collected packages: pylatexenc\n",
            "Successfully installed pylatexenc-2.10\n"
          ]
        }
      ]
    },
    {
      "cell_type": "code",
      "source": [
        "from qiskit import QuantumCircuit, QuantumRegister, ClassicalRegister\n",
        "from qiskit.quantum_info import Operator\n",
        "from qiskit_aer import AerSimulator\n",
        "import matplotlib.pyplot as plt\n",
        "import numpy as np"
      ],
      "metadata": {
        "id": "uQviV2w5ItBC"
      },
      "execution_count": 15,
      "outputs": []
    },
    {
      "cell_type": "code",
      "source": [
        "# A function to create a constant function (f(x)=0)\n",
        "def constant_0_oracle(n_qubits):\n",
        "    dim = 2**n_qubits\n",
        "    return Operator(np.eye(dim))"
      ],
      "metadata": {
        "id": "fw89FIDSOvfH"
      },
      "execution_count": 16,
      "outputs": []
    },
    {
      "cell_type": "code",
      "source": [
        "from qiskit.quantum_info import Operator\n",
        "import numpy as np\n",
        "# A function to create a balanced function\n",
        "def balanced_oracle_operator(n_qubits):\n",
        "    dim = 2**n_qubits\n",
        "    oracle = np.eye(dim)\n",
        "    for i in range(dim):\n",
        "        # Check if first two qubits are different (XOR condition)\n",
        "        if (i >> (n_qubits-1)) ^ (i >> (n_qubits-2)) & 1:\n",
        "            oracle[i,i] = -1  # Phase flip\n",
        "\n",
        "    return Operator(oracle)\n"
      ],
      "metadata": {
        "id": "7L7qsCvSTKrA"
      },
      "execution_count": 21,
      "outputs": []
    },
    {
      "cell_type": "code",
      "source": [
        "# The Quantum circuit using oracle of constant function\n",
        "circuit=QuantumCircuit(4,3)\n",
        "circuit.x(3)\n",
        "for i in range(0,4):\n",
        "   circuit.h(i)\n",
        "circuit.barrier()\n",
        "circuit.unitary(constant_0_oracle(4), range(4), \"Unitary Oracle \\n $U_f$\")\n",
        "for i in range(0,3):\n",
        "   circuit.h(i)\n",
        "   circuit.measure(i,0)\n",
        "circuit.draw('text')"
      ],
      "metadata": {
        "colab": {
          "base_uri": "https://localhost:8080/",
          "height": 202
        },
        "id": "u6Qoi7mEIwOA",
        "outputId": "ebb69910-1aa1-45ec-c856-e4b7983acd6a"
      },
      "execution_count": 22,
      "outputs": [
        {
          "output_type": "execute_result",
          "data": {
            "text/plain": [
              "     ┌───┐      ░ ┌─────────────────────────┐┌───┐┌─┐      \n",
              "q_0: ┤ H ├──────░─┤0                        ├┤ H ├┤M├──────\n",
              "     ├───┤      ░ │                         │├───┤└╥┘┌─┐   \n",
              "q_1: ┤ H ├──────░─┤1                        ├┤ H ├─╫─┤M├───\n",
              "     ├───┤      ░ │  Unitary Oracle \n",
              " $U_f$ │├───┤ ║ └╥┘┌─┐\n",
              "q_2: ┤ H ├──────░─┤2                        ├┤ H ├─╫──╫─┤M├\n",
              "     ├───┤┌───┐ ░ │                         │└───┘ ║  ║ └╥┘\n",
              "q_3: ┤ X ├┤ H ├─░─┤3                        ├──────╫──╫──╫─\n",
              "     └───┘└───┘ ░ └─────────────────────────┘      ║  ║  ║ \n",
              "c: 3/══════════════════════════════════════════════╩══╩══╩═\n",
              "                                                   0  0  0 "
            ],
            "text/html": [
              "<pre style=\"word-wrap: normal;white-space: pre;background: #fff0;line-height: 1.1;font-family: &quot;Courier New&quot;,Courier,monospace\">     ┌───┐      ░ ┌─────────────────────────┐┌───┐┌─┐      \n",
              "q_0: ┤ H ├──────░─┤0                        ├┤ H ├┤M├──────\n",
              "     ├───┤      ░ │                         │├───┤└╥┘┌─┐   \n",
              "q_1: ┤ H ├──────░─┤1                        ├┤ H ├─╫─┤M├───\n",
              "     ├───┤      ░ │  Unitary Oracle \n",
              " $U_f$ │├───┤ ║ └╥┘┌─┐\n",
              "q_2: ┤ H ├──────░─┤2                        ├┤ H ├─╫──╫─┤M├\n",
              "     ├───┤┌───┐ ░ │                         │└───┘ ║  ║ └╥┘\n",
              "q_3: ┤ X ├┤ H ├─░─┤3                        ├──────╫──╫──╫─\n",
              "     └───┘└───┘ ░ └─────────────────────────┘      ║  ║  ║ \n",
              "c: 3/══════════════════════════════════════════════╩══╩══╩═\n",
              "                                                   0  0  0 </pre>"
            ]
          },
          "metadata": {},
          "execution_count": 22
        }
      ]
    },
    {
      "cell_type": "code",
      "source": [
        "#testing the circuit\n",
        "result= AerSimulator().run(circuit, shots= 1).result() # only a single query is required by qunatum computing\n",
        "answer=(list(result.get_counts().keys())[0])\n",
        "if answer == \"000\":\n",
        "  print(\"Function is constant\\n\")\n",
        "else:\n",
        "  print(\"Function is balanced\")\n"
      ],
      "metadata": {
        "colab": {
          "base_uri": "https://localhost:8080/"
        },
        "id": "9Suq-nJtMB9_",
        "outputId": "ead3ff52-5045-430c-909e-d45076255397"
      },
      "execution_count": 23,
      "outputs": [
        {
          "output_type": "stream",
          "name": "stdout",
          "text": [
            "Function is constant\n",
            "\n"
          ]
        }
      ]
    },
    {
      "cell_type": "code",
      "source": [
        "op=balanced_oracle_operator(4)#creating a operator of a balanced function\n",
        "circuit2=QuantumCircuit(4,3)\n",
        "circuit2.x(3)\n",
        "\n",
        "for i in range(0,4):\n",
        "   circuit2.h(i)\n",
        "circuit2.barrier()\n",
        "circuit2.unitary(op, range(4), \"Unitary Oracle \\n $U_f$\")\n",
        "for i in range(0,3):\n",
        "   circuit2.h(i)#The same quantum circuit as above just the oracle is now a balanced function\n",
        "   circuit2.measure(i,0)\n",
        "circuit2.draw('text')\n",
        "outcomes=[]\n",
        "result= AerSimulator().run(circuit2, shots= 1).result() # only a single query is required by quantum computing\n",
        "answer2=(list(result.get_counts().keys())[0])\n",
        "if answer2 == \"000\":\n",
        "  print(\"Function is constant\")\n",
        "else:\n",
        "  print(\"The Function is balanced\")\n",
        "circuit2.draw('text')"
      ],
      "metadata": {
        "colab": {
          "base_uri": "https://localhost:8080/",
          "height": 219
        },
        "id": "XZQf9Rs4QXNR",
        "outputId": "db10c6f7-c889-4256-88ef-5a1d5918abab"
      },
      "execution_count": 24,
      "outputs": [
        {
          "output_type": "stream",
          "name": "stdout",
          "text": [
            "The Function is balanced\n"
          ]
        },
        {
          "output_type": "execute_result",
          "data": {
            "text/plain": [
              "     ┌───┐      ░ ┌─────────────────────────┐┌───┐┌─┐      \n",
              "q_0: ┤ H ├──────░─┤0                        ├┤ H ├┤M├──────\n",
              "     ├───┤      ░ │                         │├───┤└╥┘┌─┐   \n",
              "q_1: ┤ H ├──────░─┤1                        ├┤ H ├─╫─┤M├───\n",
              "     ├───┤      ░ │  Unitary Oracle \n",
              " $U_f$ │├───┤ ║ └╥┘┌─┐\n",
              "q_2: ┤ H ├──────░─┤2                        ├┤ H ├─╫──╫─┤M├\n",
              "     ├───┤┌───┐ ░ │                         │└───┘ ║  ║ └╥┘\n",
              "q_3: ┤ X ├┤ H ├─░─┤3                        ├──────╫──╫──╫─\n",
              "     └───┘└───┘ ░ └─────────────────────────┘      ║  ║  ║ \n",
              "c: 3/══════════════════════════════════════════════╩══╩══╩═\n",
              "                                                   0  0  0 "
            ],
            "text/html": [
              "<pre style=\"word-wrap: normal;white-space: pre;background: #fff0;line-height: 1.1;font-family: &quot;Courier New&quot;,Courier,monospace\">     ┌───┐      ░ ┌─────────────────────────┐┌───┐┌─┐      \n",
              "q_0: ┤ H ├──────░─┤0                        ├┤ H ├┤M├──────\n",
              "     ├───┤      ░ │                         │├───┤└╥┘┌─┐   \n",
              "q_1: ┤ H ├──────░─┤1                        ├┤ H ├─╫─┤M├───\n",
              "     ├───┤      ░ │  Unitary Oracle \n",
              " $U_f$ │├───┤ ║ └╥┘┌─┐\n",
              "q_2: ┤ H ├──────░─┤2                        ├┤ H ├─╫──╫─┤M├\n",
              "     ├───┤┌───┐ ░ │                         │└───┘ ║  ║ └╥┘\n",
              "q_3: ┤ X ├┤ H ├─░─┤3                        ├──────╫──╫──╫─\n",
              "     └───┘└───┘ ░ └─────────────────────────┘      ║  ║  ║ \n",
              "c: 3/══════════════════════════════════════════════╩══╩══╩═\n",
              "                                                   0  0  0 </pre>"
            ]
          },
          "metadata": {},
          "execution_count": 24
        }
      ]
    },
    {
      "cell_type": "code",
      "source": [],
      "metadata": {
        "id": "gQ4aQzyJRhR8"
      },
      "execution_count": null,
      "outputs": []
    }
  ]
}